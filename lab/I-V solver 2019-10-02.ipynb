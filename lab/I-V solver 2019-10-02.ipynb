{
 "cells": [
  {
   "cell_type": "code",
   "execution_count": 1,
   "metadata": {},
   "outputs": [],
   "source": [
    "%load_ext autoreload\n",
    "%autoreload 2\n",
    "from pypvcell.solarcell import SQCell\n",
    "import numpy as np\n",
    "import matplotlib.pyplot as plt\n",
    "import scipy.constants as sc\n",
    "from pypvcell.illumination import load_astm"
   ]
  },
  {
   "cell_type": "code",
   "execution_count": 2,
   "metadata": {},
   "outputs": [],
   "source": [
    "def find_voltage(v,i):\n",
    "    pass\n",
    "\n",
    "\n",
    "def rev_diode(voltage):\n",
    "    rev_j01 = 4.46e-19\n",
    "    rev_bd_v=20\n",
    "    return -rev_j01*np.exp(sc.e*(-voltage-rev_bd_v)/(sc.k*300)-1)"
   ]
  },
  {
   "cell_type": "code",
   "execution_count": 3,
   "metadata": {},
   "outputs": [
    {
     "name": "stdout",
     "output_type": "stream",
     "text": [
      "318.2511987763152\n",
      "122.8593900884283\n"
     ]
    }
   ],
   "source": [
    "sq1_cell=SQCell(eg=1.3,cell_T=300,plug_in_term=rev_diode)\n",
    "sq1_cell.set_input_spectrum(load_astm(\"AM1.5d\"))\n",
    "\n",
    "sq2_cell=SQCell(eg=2.0,cell_T=300,plug_in_term=rev_diode)\n",
    "sq2_cell.set_input_spectrum(load_astm(\"AM1.5d\"))\n",
    "\n",
    "test_v=np.linspace(-2,2.5,num=50)\n",
    "\n",
    "print(sq1_cell.jsc)\n",
    "print(sq2_cell.jsc)\n",
    "\n",
    "test_j1=sq1_cell.get_j_from_v(test_v)\n",
    "test_j2=sq2_cell.get_j_from_v(test_v)\n",
    "\n"
   ]
  },
  {
   "cell_type": "code",
   "execution_count": 4,
   "metadata": {},
   "outputs": [
    {
     "data": {
      "text/plain": [
       "(-400, 0)"
      ]
     },
     "execution_count": 4,
     "metadata": {},
     "output_type": "execute_result"
    },
    {
     "data": {
      "image/png": "[encoded data removed]",
      "text/plain": [
       "<Figure size 432x288 with 1 Axes>"
      ]
     },
     "metadata": {
      "needs_background": "light"
     },
     "output_type": "display_data"
    }
   ],
   "source": [
    "plt.plot(test_v,test_j1,label=\"cell 1\")\n",
    "plt.plot(test_v,test_j2,label=\"cell 2\")\n",
    "plt.legend()\n",
    "plt.ylim([-400,0])"
   ]
  },
  {
   "cell_type": "code",
   "execution_count": 5,
   "metadata": {},
   "outputs": [],
   "source": [
    "from scipy.optimize import bisect"
   ]
  },
  {
   "cell_type": "code",
   "execution_count": 6,
   "metadata": {},
   "outputs": [
    {
     "name": "stdout",
     "output_type": "stream",
     "text": [
      "1.5191315318554643\n"
     ]
    }
   ],
   "source": [
    "def f1(x):\n",
    "    return sq2_cell.get_j_from_v(x)+121\n",
    "\n",
    "zero_result=bisect(f1,0,10)\n",
    "print(zero_result)"
   ]
  },
  {
   "cell_type": "code",
   "execution_count": 7,
   "metadata": {},
   "outputs": [
    {
     "name": "stdout",
     "output_type": "stream",
     "text": [
      "-21.067485639960637\n"
     ]
    }
   ],
   "source": [
    "def f2(x):\n",
    "    return sq2_cell.get_j_from_v(x)+123\n",
    "\n",
    "\n",
    "\n",
    "zero_result=bisect(f2,-30,0)\n",
    "print(zero_result)"
   ]
  },
  {
   "cell_type": "code",
   "execution_count": 8,
   "metadata": {},
   "outputs": [
    {
     "name": "stdout",
     "output_type": "stream",
     "text": [
      "1.6263955512079065\n"
     ]
    }
   ],
   "source": [
    "def f3(x):\n",
    "    return sq2_cell.get_j_from_v(x)+(5+0.01)\n",
    "\n",
    "\n",
    "zero_result=bisect(f3,0,10)\n",
    "print(zero_result)"
   ]
  },
  {
   "cell_type": "code",
   "execution_count": 9,
   "metadata": {},
   "outputs": [
    {
     "name": "stdout",
     "output_type": "stream",
     "text": [
      "1.6263999381305894\n"
     ]
    }
   ],
   "source": [
    "def f4(x):\n",
    "    return sq2_cell.get_j_from_v(x)+(5-0.01)\n",
    "\n",
    "\n",
    "zero_result=bisect(f4,0,10)\n",
    "print(zero_result)"
   ]
  },
  {
   "cell_type": "code",
   "execution_count": 10,
   "metadata": {},
   "outputs": [
    {
     "data": {
      "text/plain": [
       "0.14060991157170122"
      ]
     },
     "execution_count": 10,
     "metadata": {},
     "output_type": "execute_result"
    }
   ],
   "source": [
    "f2(0)"
   ]
  },
  {
   "cell_type": "code",
   "execution_count": 11,
   "metadata": {},
   "outputs": [
    {
     "data": {
      "text/plain": [
       "0.14060991157170122"
      ]
     },
     "execution_count": 11,
     "metadata": {},
     "output_type": "execute_result"
    }
   ],
   "source": [
    "f2(-20)"
   ]
  },
  {
   "cell_type": "code",
   "execution_count": 12,
   "metadata": {},
   "outputs": [
    {
     "data": {
      "text/plain": [
       "-23.527302894130628"
      ]
     },
     "execution_count": 12,
     "metadata": {},
     "output_type": "execute_result"
    }
   ],
   "source": [
    "f2(-21.2)"
   ]
  },
  {
   "cell_type": "code",
   "execution_count": 13,
   "metadata": {},
   "outputs": [],
   "source": [
    "def f5(x,x_0):\n",
    "    return sq2_cell.get_j_from_v(x)-x_0"
   ]
  },
  {
   "cell_type": "code",
   "execution_count": 14,
   "metadata": {},
   "outputs": [
    {
     "name": "stdout",
     "output_type": "stream",
     "text": [
      "1.6285031009385875\n"
     ]
    }
   ],
   "source": [
    "zero_result=bisect(f5,0,10,args=5)\n",
    "print(zero_result)"
   ]
  },
  {
   "cell_type": "code",
   "execution_count": 15,
   "metadata": {},
   "outputs": [
    {
     "name": "stdout",
     "output_type": "stream",
     "text": [
      "no solution found for -318.5694499750915\n",
      "no solution found for -2.8642607889868366\n",
      "no solution found for -318.5694499750915\n",
      "no solution found for -2.8642607889868366\n",
      "no solution found for -318.5694499750915\n",
      "no solution found for -2.8642607889868366\n",
      "no solution found for -318.5694499750915\n",
      "no solution found for -2.8642607889868366\n",
      "no solution found for -318.5694499750915\n",
      "no solution found for -2.8642607889868366\n",
      "no solution found for -318.5694499750915\n",
      "no solution found for -2.8642607889868366\n",
      "no solution found for -318.5694499750915\n",
      "no solution found for -2.8642607889868366\n",
      "no solution found for -318.56944650374453\n",
      "no solution found for -2.864260757775925\n",
      "no solution found for 4.968946452081959\n",
      "no solution found for 1965951393.2319002\n"
     ]
    }
   ],
   "source": [
    "test_v=np.linspace(-3,1.5,num=10)\n",
    "test_j1=sq1_cell.get_j_from_v(test_v)\n",
    "\n",
    "results_1=[]\n",
    "results_2=[]\n",
    "for j1 in test_j1:\n",
    "    try:\n",
    "        results_1.append(bisect(f5,0,5,args=j1*1.001))\n",
    "    except ValueError:\n",
    "        print(\"no solution found for {}\".format(j1*1.001))\n",
    "    try:\n",
    "        \n",
    "        results_2.append(bisect(f5,-30,0,args=j1*0.009))\n",
    "    except ValueError:\n",
    "        print(\"no solution found for {}\".format(j1*0.009))"
   ]
  },
  {
   "cell_type": "code",
   "execution_count": 16,
   "metadata": {},
   "outputs": [
    {
     "data": {
      "text/plain": [
       "[1.6715349464936935, 2.1781123243442835]"
      ]
     },
     "execution_count": 16,
     "metadata": {},
     "output_type": "execute_result"
    }
   ],
   "source": [
    "results_1"
   ]
  },
  {
   "cell_type": "code",
   "execution_count": 17,
   "metadata": {},
   "outputs": [
    {
     "data": {
      "text/plain": [
       "[]"
      ]
     },
     "execution_count": 17,
     "metadata": {},
     "output_type": "execute_result"
    }
   ],
   "source": [
    "results_2"
   ]
  },
  {
   "cell_type": "code",
   "execution_count": 18,
   "metadata": {},
   "outputs": [],
   "source": [
    "test_v=np.linspace(-3,3,num=200)\n",
    "test_j1=sq1_cell.get_j_from_v(test_v)\n",
    "test_j2=sq2_cell.get_j_from_v(test_v)\n",
    "\n",
    "results_1=[]\n",
    "results_2=[]\n",
    "\n",
    "for j1 in test_j1:\n",
    "    jj=j1*0.99\n",
    "    try:\n",
    "        results_1.append((bisect(f5,-23,5,args=jj),jj))\n",
    "    except ValueError:\n",
    "        print(\"no solution found for {}\".format(jj))\n",
    "                         \n",
    "                         \n",
    "    jj=j1*1.01\n",
    "    try:\n",
    "        results_1.append((bisect(f5,-23,5,args=jj),jj))\n",
    "    except ValueError:\n",
    "        print(\"no solution found for {}\".format(jj))\n",
    "\n",
    "results_1=np.array(results_1)\n",
    "\n",
    "for j1 in test_j2:\n",
    "    jj=j1*0.99\n",
    "    try:\n",
    "        results_2.append((bisect(f5,-23,5,args=jj),jj))\n",
    "    except ValueError:\n",
    "        print(\"no solution found for {}\".format(jj))\n",
    "                         \n",
    "                         \n",
    "    jj=j1*1.01\n",
    "    try:\n",
    "        results_2.append((bisect(f5,-23,5,args=jj),jj))\n",
    "    except ValueError:\n",
    "        print(\"no solution found for {}\".format(jj))\n",
    "\n",
    "results_2=np.array(results_2)"
   ]
  },
  {
   "cell_type": "code",
   "execution_count": 19,
   "metadata": {},
   "outputs": [
    {
     "data": {
      "text/plain": [
       "<matplotlib.legend.Legend at 0x23c70f4fe80>"
      ]
     },
     "execution_count": 19,
     "metadata": {},
     "output_type": "execute_result"
    },
    {
     "data": {
      "image/png": "[encoded data removed]",
      "text/plain": [
       "<Figure size 432x288 with 1 Axes>"
      ]
     },
     "metadata": {
      "needs_background": "light"
     },
     "output_type": "display_data"
    }
   ],
   "source": [
    "#plt.plot(test_v,np.array(results_1),label=\"solved sq2\")\n",
    "plt.plot(test_v,sq1_cell.get_j_from_v(test_v),label=\"cell 1\")\n",
    "plt.ylim([-400,0])\n",
    "plt.legend()"
   ]
  },
  {
   "cell_type": "markdown",
   "metadata": {},
   "source": [
    "Get the series-connected voltages"
   ]
  },
  {
   "cell_type": "code",
   "execution_count": 20,
   "metadata": {},
   "outputs": [
    {
     "data": {
      "text/plain": [
       "(-400, 1000)"
      ]
     },
     "execution_count": 20,
     "metadata": {},
     "output_type": "execute_result"
    },
    {
     "data": {
      "image/png": "[encoded data removed]",
      "text/plain": [
       "<Figure size 432x288 with 1 Axes>"
      ]
     },
     "metadata": {
      "needs_background": "light"
     },
     "output_type": "display_data"
    }
   ],
   "source": [
    "plt.plot(test_v,sq1_cell.get_j_from_v(test_v),'.-',label=\"cell 1\")\n",
    "plt.plot(test_v,sq2_cell.get_j_from_v(test_v),'.-',label=\"cell 2\")\n",
    "plt.plot(results_1[:,0],results_1[:,1],'-.',label=\"solved cell 2 voltage from cell 1 current\")\n",
    "plt.plot(results_2[:,0],results_2[:,1],'-.',label=\"solved cell 2 voltage from cell 2 current\")\n",
    "plt.legend()\n",
    "plt.ylim([-400,1000])"
   ]
  },
  {
   "cell_type": "code",
   "execution_count": 21,
   "metadata": {},
   "outputs": [],
   "source": [
    "def merge_iv_sets(v1,j1,v2,j2):\n",
    "    \n",
    "    v3=np.concatenate((v1,v2))\n",
    "    j3=np.concatenate((j1,j2))\n",
    "    \n",
    "    sorted_v3_index=np.argsort(v3)\n",
    "    \n",
    "    return v3[sorted_v3_index],j3[sorted_v3_index]\n",
    "    "
   ]
  },
  {
   "cell_type": "code",
   "execution_count": 22,
   "metadata": {},
   "outputs": [],
   "source": [
    "v3,j3=merge_iv_sets(results_1[:,0],results_1[:,1],results_2[:,0],results_2[:,1])"
   ]
  },
  {
   "cell_type": "code",
   "execution_count": 23,
   "metadata": {},
   "outputs": [
    {
     "data": {
      "text/plain": [
       "(-400, 1000)"
      ]
     },
     "execution_count": 23,
     "metadata": {},
     "output_type": "execute_result"
    },
    {
     "data": {
      "image/png": "[encoded data removed]",
      "text/plain": [
       "<Figure size 432x288 with 1 Axes>"
      ]
     },
     "metadata": {
      "needs_background": "light"
     },
     "output_type": "display_data"
    }
   ],
   "source": [
    "plt.plot(test_v,sq1_cell.get_j_from_v(test_v),'.-',label=\"cell 1\")\n",
    "plt.plot(test_v,sq2_cell.get_j_from_v(test_v),'.-',label=\"cell 2\")\n",
    "plt.plot(v3,j3,'.-',label=\"solved cell 2 voltage from cell 1 and 2 current\")\n",
    "plt.legend()\n",
    "plt.ylim([-400,1000])"
   ]
  },
  {
   "cell_type": "markdown",
   "metadata": {},
   "source": [
    "get current of cell 1 using j3"
   ]
  },
  {
   "cell_type": "code",
   "execution_count": 24,
   "metadata": {},
   "outputs": [],
   "source": [
    "def f6(x,x_0):\n",
    "    return sq1_cell.get_j_from_v(x)-x_0"
   ]
  },
  {
   "cell_type": "markdown",
   "metadata": {},
   "source": [
    "result_3=[]\n",
    "for jj in j3:\n",
    "   \n",
    "    try:\n",
    "        result_3.append((bisect(f6,-23,5,args=jj),jj))\n",
    "    except ValueError:\n",
    "        print(\"no solution found for {}\".format(jj))\n",
    "                         \n",
    "                         \n",
    "\n",
    "result_3=np.array(result_3)"
   ]
  },
  {
   "cell_type": "code",
   "execution_count": 25,
   "metadata": {},
   "outputs": [],
   "source": [
    "from pypvcell.ivsolver import solve_v_from_j_adding_epsilon"
   ]
  },
  {
   "cell_type": "code",
   "execution_count": 26,
   "metadata": {},
   "outputs": [],
   "source": [
    "result_3=solve_v_from_j_adding_epsilon(sq1_cell.get_j_from_v,j3,bisect,epsilon=0)"
   ]
  },
  {
   "cell_type": "code",
   "execution_count": 27,
   "metadata": {},
   "outputs": [
    {
     "data": {
      "text/plain": [
       "(-400, 1000)"
      ]
     },
     "execution_count": 27,
     "metadata": {},
     "output_type": "execute_result"
    },
    {
     "data": {
      "image/png": "[encoded data removed]",
      "text/plain": [
       "<Figure size 432x288 with 1 Axes>"
      ]
     },
     "metadata": {
      "needs_background": "light"
     },
     "output_type": "display_data"
    }
   ],
   "source": [
    "plt.plot(test_v,sq1_cell.get_j_from_v(test_v),'.-',label=\"cell 1\")\n",
    "plt.plot(test_v,sq2_cell.get_j_from_v(test_v),'.-',label=\"cell 2\")\n",
    "#plt.plot(v3,j3,'.-',label=\"solved cell 2 voltage from cell 1 and 2 current\")\n",
    "#plt.plot(result_3[:,0],result_3[:,1],'.')\n",
    "plt.plot(result_3[:,0],result_3[:,1],'.')\n",
    "plt.legend()\n",
    "plt.ylim([-400,1000])"
   ]
  },
  {
   "cell_type": "code",
   "execution_count": 28,
   "metadata": {},
   "outputs": [
    {
     "data": {
      "text/plain": [
       "(-25, 3)"
      ]
     },
     "execution_count": 28,
     "metadata": {},
     "output_type": "execute_result"
    },
    {
     "data": {
      "image/png": "[encoded data removed]",
      "text/plain": [
       "<Figure size 432x288 with 1 Axes>"
      ]
     },
     "metadata": {
      "needs_background": "light"
     },
     "output_type": "display_data"
    }
   ],
   "source": [
    "plt.plot(result_3[:,0],result_3[:,1],'.-')\n",
    "plt.plot(v3,result_3[:,1],'.-')\n",
    "plt.plot(v3+result_3[:,0],result_3[:,1],'.-')\n",
    "plt.ylim([-500,1000])\n",
    "plt.xlim([-25,3])"
   ]
  },
  {
   "cell_type": "code",
   "execution_count": null,
   "metadata": {},
   "outputs": [],
   "source": []
  }
 ],
 "metadata": {
  "kernelspec": {
   "display_name": "Python 3",
   "language": "python",
   "name": "python3"
  },
  "language_info": {
   "codemirror_mode": {
    "name": "ipython",
    "version": 3
   },
   "file_extension": ".py",
   "mimetype": "text/x-python",
   "name": "python",
   "nbconvert_exporter": "python",
   "pygments_lexer": "ipython3",
   "version": "3.6.8"
  }
 },
 "nbformat": 4,
 "nbformat_minor": 2
}

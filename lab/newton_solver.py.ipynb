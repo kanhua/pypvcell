{
 "cells": [
  {
   "cell_type": "code",
   "execution_count": 1,
   "metadata": {
    "collapsed": true
   },
   "outputs": [],
   "source": [
    "%matplotlib inline\n",
    "from scipy.optimize import newton\n",
    "import scipy.constants as sc\n",
    "import numpy as np\n",
    "import matplotlib.pyplot as plt"
   ]
  },
  {
   "cell_type": "code",
   "execution_count": 2,
   "metadata": {
    "collapsed": true
   },
   "outputs": [],
   "source": [
    "## Test a trvial case"
   ]
  },
  {
   "cell_type": "code",
   "execution_count": 3,
   "metadata": {
    "collapsed": true
   },
   "outputs": [],
   "source": [
    "def two_order_poly(x):\n",
    "    return x**2-2\n",
    "\n",
    "def two_order_poly_d(x):\n",
    "    return 2*x\n",
    "\n",
    "def two_order_poly_dd(x):\n",
    "    return 2"
   ]
  },
  {
   "cell_type": "code",
   "execution_count": 4,
   "metadata": {},
   "outputs": [
    {
     "data": {
      "text/plain": [
       "1.4142135623730949"
      ]
     },
     "execution_count": 4,
     "metadata": {},
     "output_type": "execute_result"
    }
   ],
   "source": [
    "newton(two_order_poly,1,fprime=two_order_poly_d,fprime2=two_order_poly_dd)"
   ]
  },
  {
   "cell_type": "code",
   "execution_count": 5,
   "metadata": {
    "collapsed": true
   },
   "outputs": [],
   "source": [
    "I01_array = (1e-20, 1e-18, 1e-17)\n",
    "I02_array = (1e-13, 1e-15, 1e-15)\n",
    "jsc_array = (137, 158, 154)"
   ]
  },
  {
   "cell_type": "code",
   "execution_count": 6,
   "metadata": {
    "collapsed": true
   },
   "outputs": [],
   "source": [
    "def gen_rec_iv(j01, j02, n1, n2, temperature, rshunt, voltage, jsc=0):\n",
    "    current = (j01 * (np.exp(sc.e * voltage / (n1 * sc.k * temperature)) - 1)\n",
    "               + j02 * (np.exp(sc.e * voltage / (n2 * sc.k * temperature)) - 1) +\n",
    "               voltage / rshunt) - jsc\n",
    "    return (voltage, current)"
   ]
  },
  {
   "cell_type": "code",
   "execution_count": 7,
   "metadata": {
    "collapsed": true
   },
   "outputs": [],
   "source": [
    "def gen_iv(voltage):\n",
    "    j01=1e-20\n",
    "    j02=1e-13\n",
    "    n1=1\n",
    "    n2=2\n",
    "    temperature=300\n",
    "    rshunt=1e20\n",
    "    jsc=100\n",
    "    current = (j01 * (np.exp(sc.e * voltage / (n1 * sc.k * temperature)) - 1)\n",
    "               + j02 * (np.exp(sc.e * voltage / (n2 * sc.k * temperature)) - 1) +\n",
    "               voltage / rshunt) - jsc\n",
    "    return current"
   ]
  },
  {
   "cell_type": "code",
   "execution_count": 8,
   "metadata": {
    "collapsed": true
   },
   "outputs": [],
   "source": [
    "def gen_iv_d(voltage):\n",
    "    j01=1e-20\n",
    "    j02=1e-13\n",
    "    n1=1\n",
    "    n2=2\n",
    "    temperature=300\n",
    "    rshunt=1e20\n",
    "    jsc=100\n",
    "    current = (sc.e/(sc.k*temperature)*j01 * (np.exp(sc.e * voltage / (n1 * sc.k * temperature)) - 1)\n",
    "               + sc.e/(sc.k*temperature)*j02 * (np.exp(sc.e * voltage / (n2 * sc.k * temperature)) - 1) +\n",
    "               1 / rshunt)\n",
    "    return current"
   ]
  },
  {
   "cell_type": "code",
   "execution_count": 9,
   "metadata": {
    "collapsed": true
   },
   "outputs": [],
   "source": [
    "def gen_iv_dd(voltage):\n",
    "    j01=1e-20\n",
    "    j02=1e-13\n",
    "    n1=1\n",
    "    n2=2\n",
    "    temperature=300\n",
    "    rshunt=1e20\n",
    "    jsc=100\n",
    "    current = ((sc.e/(sc.k*temperature))**2 *j01 * (np.exp(sc.e * voltage / (n1 * sc.k * temperature)) - 1)\n",
    "               + (sc.e/(sc.k*temperature))**2 *j02 * (np.exp(sc.e * voltage / (n2 * sc.k * temperature)) - 1))\n",
    "    return current"
   ]
  },
  {
   "cell_type": "code",
   "execution_count": 41,
   "metadata": {
    "collapsed": true
   },
   "outputs": [],
   "source": [
    "v=np.linspace(-1,1.5,num=100)"
   ]
  },
  {
   "cell_type": "code",
   "execution_count": 42,
   "metadata": {},
   "outputs": [
    {
     "data": {
      "text/plain": [
       "[<matplotlib.lines.Line2D at 0x1123dc1d0>]"
      ]
     },
     "execution_count": 42,
     "metadata": {},
     "output_type": "execute_result"
    },
    {
     "data": {
      "image/png": "[encoded data removed]",
      "text/plain": [
       "<matplotlib.figure.Figure at 0x11243f710>"
      ]
     },
     "metadata": {},
     "output_type": "display_data"
    }
   ],
   "source": [
    "plt.plot(v,gen_iv(v))"
   ]
  },
  {
   "cell_type": "code",
   "execution_count": 10,
   "metadata": {},
   "outputs": [
    {
     "data": {
      "text/plain": [
       "1.3095784156090928"
      ]
     },
     "execution_count": 10,
     "metadata": {},
     "output_type": "execute_result"
    }
   ],
   "source": [
    "newton(gen_iv,1.4,fprime=gen_iv_d,fprime2=gen_iv_dd)"
   ]
  },
  {
   "cell_type": "code",
   "execution_count": 45,
   "metadata": {
    "collapsed": true
   },
   "outputs": [],
   "source": [
    "from pypvcell.fom import voc"
   ]
  },
  {
   "cell_type": "code",
   "execution_count": 46,
   "metadata": {},
   "outputs": [
    {
     "data": {
      "text/plain": [
       "array(1.3066141034364338)"
      ]
     },
     "execution_count": 46,
     "metadata": {},
     "output_type": "execute_result"
    }
   ],
   "source": [
    "voc(v,gen_iv(v))"
   ]
  },
  {
   "cell_type": "code",
   "execution_count": 47,
   "metadata": {},
   "outputs": [
    {
     "data": {
      "text/plain": [
       "-100.0000000000001"
      ]
     },
     "execution_count": 47,
     "metadata": {},
     "output_type": "execute_result"
    }
   ],
   "source": [
    "min(gen_iv(v))"
   ]
  },
  {
   "cell_type": "code",
   "execution_count": null,
   "metadata": {
    "collapsed": true
   },
   "outputs": [],
   "source": []
  }
 ],
 "metadata": {
  "kernelspec": {
   "display_name": "Python 3",
   "language": "python",
   "name": "python3"
  },
  "language_info": {
   "codemirror_mode": {
    "name": "ipython",
    "version": 3
   },
   "file_extension": ".py",
   "mimetype": "text/x-python",
   "name": "python",
   "nbconvert_exporter": "python",
   "pygments_lexer": "ipython3",
   "version": "3.6.4"
  }
 },
 "nbformat": 4,
 "nbformat_minor": 2
}

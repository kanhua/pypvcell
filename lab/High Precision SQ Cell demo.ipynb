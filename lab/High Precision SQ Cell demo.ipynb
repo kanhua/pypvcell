{
 "cells": [
  {
   "cell_type": "code",
   "execution_count": 1,
   "metadata": {
    "collapsed": true
   },
   "outputs": [],
   "source": [
    "%load_ext autoreload\n",
    "%autoreload 2\n",
    "%matplotlib inline\n",
    "from scipy.optimize import newton\n",
    "import scipy.constants as sc\n",
    "import numpy as np\n",
    "import matplotlib.pyplot as plt"
   ]
  },
  {
   "cell_type": "code",
   "execution_count": 2,
   "metadata": {
    "collapsed": true
   },
   "outputs": [],
   "source": [
    "from pypvcell.solarcell import HighPSQCell,DiodeSeriesConnect\n",
    "from pypvcell.illumination import load_astm"
   ]
  },
  {
   "cell_type": "code",
   "execution_count": 3,
   "metadata": {
    "collapsed": true
   },
   "outputs": [],
   "source": [
    "hp1=HighPSQCell(1.42,cell_T=300)"
   ]
  },
  {
   "cell_type": "code",
   "execution_count": 4,
   "metadata": {
    "collapsed": true
   },
   "outputs": [],
   "source": [
    "test_v=np.linspace(-1,1,10)"
   ]
  },
  {
   "cell_type": "code",
   "execution_count": 5,
   "metadata": {},
   "outputs": [
    {
     "data": {
      "text/plain": [
       "array([  2.51468640e-33,   1.36036085e-29,   7.35909517e-26,\n",
       "         3.98102324e-22,   2.15359982e-18,   1.16502515e-14,\n",
       "         6.30239462e-11,   3.40938374e-07,   1.84436206e-03,\n",
       "         9.97737906e+00])"
      ]
     },
     "execution_count": 5,
     "metadata": {},
     "output_type": "execute_result"
    }
   ],
   "source": [
    "hp1.get_j_from_v(test_v)"
   ]
  },
  {
   "cell_type": "code",
   "execution_count": 6,
   "metadata": {},
   "outputs": [
    {
     "data": {
      "text/plain": [
       "(0, array([  2.51468640e-33,   1.36036085e-29,   7.35909517e-26,\n",
       "          3.98102324e-22,   2.15359982e-18,   1.16502515e-14,\n",
       "          6.30239462e-11,   3.40938374e-07,   1.84436206e-03,\n",
       "          9.97737906e+00]))"
      ]
     },
     "execution_count": 6,
     "metadata": {},
     "output_type": "execute_result"
    }
   ],
   "source": [
    "hp1.get_j_from_v(test_v,to_tup=True)"
   ]
  },
  {
   "cell_type": "code",
   "execution_count": 7,
   "metadata": {
    "collapsed": true
   },
   "outputs": [],
   "source": [
    "hp1.set_input_spectrum(load_astm())"
   ]
  },
  {
   "cell_type": "code",
   "execution_count": 8,
   "metadata": {},
   "outputs": [
    {
     "name": "stdout",
     "output_type": "stream",
     "text": [
      "(-320.42957639087012, array([  2.51468640e-33,   1.36036085e-29,   7.35909517e-26,\n",
      "         3.98102324e-22,   2.15359982e-18,   1.16502515e-14,\n",
      "         6.30239462e-11,   3.40938374e-07,   1.84436206e-03,\n",
      "         9.97737906e+00]))\n"
     ]
    }
   ],
   "source": [
    "test_i=hp1.get_j_from_v(test_v,to_tup=True)\n",
    "print(test_i)"
   ]
  },
  {
   "cell_type": "code",
   "execution_count": 9,
   "metadata": {},
   "outputs": [
    {
     "data": {
      "text/plain": [
       "array([-1.        , -0.77777778, -0.55555556, -0.33333333, -0.11111111,\n",
       "        0.11111111,  0.33333333,  0.55555556,  0.77777778,  1.        ])"
      ]
     },
     "execution_count": 9,
     "metadata": {},
     "output_type": "execute_result"
    }
   ],
   "source": [
    "hp1.get_v_from_j(test_i)"
   ]
  },
  {
   "cell_type": "code",
   "execution_count": 10,
   "metadata": {},
   "outputs": [
    {
     "data": {
      "text/plain": [
       "0.0"
      ]
     },
     "execution_count": 10,
     "metadata": {},
     "output_type": "execute_result"
    }
   ],
   "source": [
    "hp1.get_v_from_j_numerical(-hp1.jsc)"
   ]
  },
  {
   "cell_type": "code",
   "execution_count": 11,
   "metadata": {},
   "outputs": [
    {
     "data": {
      "text/plain": [
       "0.82147931848280387"
      ]
     },
     "execution_count": 11,
     "metadata": {},
     "output_type": "execute_result"
    }
   ],
   "source": [
    "hp1.get_v_from_j((-hp1.jsc+0.01,0))"
   ]
  },
  {
   "cell_type": "code",
   "execution_count": 12,
   "metadata": {},
   "outputs": [
    {
     "data": {
      "text/plain": [
       "3.0"
      ]
     },
     "execution_count": 12,
     "metadata": {},
     "output_type": "execute_result"
    }
   ],
   "source": [
    "hp1.get_v_from_j_numerical(-320,3.0)"
   ]
  },
  {
   "cell_type": "code",
   "execution_count": 13,
   "metadata": {},
   "outputs": [
    {
     "data": {
      "text/plain": [
       "(-320.42957639087012, 7.5801322803264188e-15)"
      ]
     },
     "execution_count": 13,
     "metadata": {},
     "output_type": "execute_result"
    }
   ],
   "source": [
    "hp1.get_j_from_v(0.1,to_tup=True)"
   ]
  },
  {
   "cell_type": "code",
   "execution_count": 14,
   "metadata": {},
   "outputs": [
    {
     "data": {
      "text/plain": [
       "9.9773790642823901"
      ]
     },
     "execution_count": 14,
     "metadata": {},
     "output_type": "execute_result"
    }
   ],
   "source": [
    "hp1.get_single_j_from_v_bisect_fancy(1.0,(-hp1.jsc,-20))"
   ]
  },
  {
   "cell_type": "code",
   "execution_count": 15,
   "metadata": {
    "collapsed": true
   },
   "outputs": [],
   "source": [
    "hp2=HighPSQCell(1.42,cell_T=300)\n",
    "hp2.set_input_spectrum(0.2*load_astm())\n",
    "hp3=HighPSQCell(1.42,cell_T=300)\n",
    "hp3.set_input_spectrum(0.4*load_astm())\n",
    "d1=DiodeSeriesConnect([hp1,hp2,hp3])"
   ]
  },
  {
   "cell_type": "code",
   "execution_count": 16,
   "metadata": {},
   "outputs": [
    {
     "ename": "ValueError",
     "evalue": "too many values to unpack (expected 2)",
     "output_type": "error",
     "traceback": [
      "\u001b[0;31m---------------------------------------------------------------------------\u001b[0m",
      "\u001b[0;31mValueError\u001b[0m                                Traceback (most recent call last)",
      "\u001b[0;32m<ipython-input-16-f74ac9da090c>\u001b[0m in \u001b[0;36m<module>\u001b[0;34m()\u001b[0m\n\u001b[0;32m----> 1\u001b[0;31m \u001b[0mv\u001b[0m\u001b[0;34m,\u001b[0m\u001b[0mi\u001b[0m\u001b[0;34m=\u001b[0m\u001b[0md1\u001b[0m\u001b[0;34m.\u001b[0m\u001b[0mconstruct_iv\u001b[0m\u001b[0;34m(\u001b[0m\u001b[0;34m)\u001b[0m\u001b[0;34m\u001b[0m\u001b[0m\n\u001b[0m",
      "\u001b[0;31mValueError\u001b[0m: too many values to unpack (expected 2)"
     ]
    }
   ],
   "source": [
    "v,i=d1.construct_iv()"
   ]
  },
  {
   "cell_type": "code",
   "execution_count": null,
   "metadata": {
    "collapsed": true
   },
   "outputs": [],
   "source": [
    "test_v=np.linspace(-5,1.1,num=100)"
   ]
  },
  {
   "cell_type": "code",
   "execution_count": null,
   "metadata": {},
   "outputs": [],
   "source": [
    "i1=hp1.get_j_from_v(test_v)\n",
    "i2=hp2.get_j_from_v(test_v)\n",
    "i3=hp3.get_j_from_v(test_v)\n",
    "plt.plot(test_v,i1)\n",
    "plt.plot(test_v,i2)\n",
    "plt.plot(test_v,i3)"
   ]
  },
  {
   "cell_type": "code",
   "execution_count": 17,
   "metadata": {},
   "outputs": [
    {
     "ename": "NameError",
     "evalue": "name 'v' is not defined",
     "output_type": "error",
     "traceback": [
      "\u001b[0;31m---------------------------------------------------------------------------\u001b[0m",
      "\u001b[0;31mNameError\u001b[0m                                 Traceback (most recent call last)",
      "\u001b[0;32m<ipython-input-17-66d7c59f90d9>\u001b[0m in \u001b[0;36m<module>\u001b[0;34m()\u001b[0m\n\u001b[0;32m----> 1\u001b[0;31m \u001b[0mplt\u001b[0m\u001b[0;34m.\u001b[0m\u001b[0mplot\u001b[0m\u001b[0;34m(\u001b[0m\u001b[0mv\u001b[0m\u001b[0;34m,\u001b[0m\u001b[0mi\u001b[0m\u001b[0;34m)\u001b[0m\u001b[0;34m\u001b[0m\u001b[0m\n\u001b[0m",
      "\u001b[0;31mNameError\u001b[0m: name 'v' is not defined"
     ]
    }
   ],
   "source": [
    "plt.plot(v,i)"
   ]
  },
  {
   "cell_type": "code",
   "execution_count": 18,
   "metadata": {},
   "outputs": [
    {
     "data": {
      "text/plain": [
       "-64.08591527817403"
      ]
     },
     "execution_count": 18,
     "metadata": {},
     "output_type": "execute_result"
    }
   ],
   "source": [
    "d1.get_single_j_from_v(1.0)"
   ]
  },
  {
   "cell_type": "code",
   "execution_count": 19,
   "metadata": {},
   "outputs": [
    {
     "data": {
      "text/plain": [
       "-64.08591527817403"
      ]
     },
     "execution_count": 19,
     "metadata": {},
     "output_type": "execute_result"
    }
   ],
   "source": [
    "d1.get_j_from_v(1.0)"
   ]
  },
  {
   "cell_type": "markdown",
   "metadata": {
    "collapsed": true
   },
   "source": [
    "## Colored diode series cell"
   ]
  },
  {
   "cell_type": "code",
   "execution_count": 77,
   "metadata": {
    "collapsed": true
   },
   "outputs": [],
   "source": [
    "top_cell=HighPSQCell(1.87,cell_T=300)\n",
    "mid_cell=HighPSQCell(1.42,cell_T=300)\n",
    "bot_cell=HighPSQCell(0.67,cell_T=300)"
   ]
  },
  {
   "cell_type": "code",
   "execution_count": 78,
   "metadata": {
    "collapsed": true
   },
   "outputs": [],
   "source": [
    "d2=DiodeSeriesConnect([top_cell,mid_cell,bot_cell])"
   ]
  },
  {
   "cell_type": "code",
   "execution_count": 79,
   "metadata": {
    "collapsed": true
   },
   "outputs": [],
   "source": [
    "d2.set_input_spectrum(load_astm())"
   ]
  },
  {
   "cell_type": "code",
   "execution_count": 80,
   "metadata": {},
   "outputs": [
    {
     "data": {
      "text/plain": [
       "(177.20068713393488, 142.85873837509928, 290.06121167808431)"
      ]
     },
     "execution_count": 80,
     "metadata": {},
     "output_type": "execute_result"
    }
   ],
   "source": [
    "top_cell.jsc,mid_cell.jsc,bot_cell.jsc"
   ]
  },
  {
   "cell_type": "code",
   "execution_count": 81,
   "metadata": {
    "collapsed": true
   },
   "outputs": [],
   "source": [
    "v=np.linspace(-1,2.9,100)\n",
    "j=d2.get_j_from_v(v)"
   ]
  },
  {
   "cell_type": "code",
   "execution_count": 82,
   "metadata": {},
   "outputs": [
    {
     "data": {
      "text/plain": [
       "[<matplotlib.lines.Line2D at 0x119283f60>]"
      ]
     },
     "execution_count": 82,
     "metadata": {},
     "output_type": "execute_result"
    },
    {
     "data": {
      "image/png": "[encoded data removed]",
      "text/plain": [
       "<matplotlib.figure.Figure at 0x118f92d68>"
      ]
     },
     "metadata": {},
     "output_type": "display_data"
    }
   ],
   "source": [
    "plt.plot(v,j,'.-')"
   ]
  },
  {
   "cell_type": "code",
   "execution_count": 83,
   "metadata": {
    "collapsed": true
   },
   "outputs": [],
   "source": [
    "import copy"
   ]
  },
  {
   "cell_type": "code",
   "execution_count": 84,
   "metadata": {
    "collapsed": true
   },
   "outputs": [],
   "source": [
    "d3=copy.deepcopy(d2)\n",
    "d3.set_input_spectrum(0.1*load_astm())\n",
    "d5=copy.deepcopy(d3)\n",
    "d5.set_input_spectrum(0.2*load_astm())"
   ]
  },
  {
   "cell_type": "code",
   "execution_count": 85,
   "metadata": {
    "collapsed": true
   },
   "outputs": [],
   "source": [
    "d4=DiodeSeriesConnect([d2,d3,d5])"
   ]
  },
  {
   "cell_type": "code",
   "execution_count": 86,
   "metadata": {
    "collapsed": true
   },
   "outputs": [],
   "source": [
    "v=np.linspace(-2,8.7,100)\n",
    "j=d4.get_j_from_v(v)"
   ]
  },
  {
   "cell_type": "code",
   "execution_count": 87,
   "metadata": {},
   "outputs": [
    {
     "data": {
      "text/plain": [
       "[<matplotlib.lines.Line2D at 0x1191f1080>]"
      ]
     },
     "execution_count": 87,
     "metadata": {},
     "output_type": "execute_result"
    },
    {
     "data": {
      "image/png": "[encoded data removed]",
      "text/plain": [
       "<matplotlib.figure.Figure at 0x11890a9b0>"
      ]
     },
     "metadata": {},
     "output_type": "display_data"
    }
   ],
   "source": [
    "plt.plot(v,j,'.-')"
   ]
  },
  {
   "cell_type": "code",
   "execution_count": 88,
   "metadata": {},
   "outputs": [
    {
     "name": "stdout",
     "output_type": "stream",
     "text": [
      "[-14.28587384 -14.28587384 -14.28587384 -14.28587384 -14.28587384\n",
      " -14.28587384 -14.28587384 -14.28587384 -14.28587384 -14.28587384\n",
      " -14.28587384 -14.28587384 -14.28587384 -14.28587384 -14.28587384\n",
      " -14.28587384 -14.28587384 -14.28587384 -14.28587384 -14.28587384\n",
      " -14.28587384 -14.28587384 -14.28587384 -14.28587384 -14.28587384\n",
      " -14.28587384 -14.28587384 -14.28587384 -14.28587384 -14.28587384\n",
      " -14.28587384 -14.28587384 -14.28587384 -14.28587384 -14.28587384\n",
      " -14.28587384 -14.28587384 -14.28587384 -14.28587384 -14.28587384\n",
      " -14.28587384 -14.28587384 -14.28587384 -14.28587384 -14.28587384\n",
      " -14.28587384 -14.28587384 -14.28587384 -14.28587384 -14.28587384\n",
      " -14.28587384 -14.28587384 -14.28587384 -14.28587384 -14.28587384\n",
      " -14.28587384 -14.28587384 -14.28587384 -14.28587384 -14.28587384\n",
      " -14.28587384 -14.28587384 -14.28587384 -14.28587384 -14.28587384\n",
      " -14.28587384 -14.28587384 -14.28587384 -14.28587384 -14.28587384\n",
      " -14.28587384 -14.28587384 -14.28587384 -14.28587384 -14.28587384\n",
      " -14.28587384 -14.28587384 -14.28587384 -14.28587384 -14.28587384\n",
      " -14.28587384 -14.28587384 -14.28587384 -14.28587384 -14.28587384\n",
      " -14.28587384 -14.28587384 -14.28587384 -14.28587384 -14.28587384\n",
      " -14.28587384 -14.28587384 -14.28587365 -14.28584795 -14.28346474\n",
      " -14.27240946 -13.75461061  -8.65126434   5.57021198  33.83962228]\n"
     ]
    }
   ],
   "source": [
    "print(j)"
   ]
  },
  {
   "cell_type": "code",
   "execution_count": null,
   "metadata": {
    "collapsed": true
   },
   "outputs": [],
   "source": []
  },
  {
   "cell_type": "code",
   "execution_count": null,
   "metadata": {
    "collapsed": true
   },
   "outputs": [],
   "source": []
  },
  {
   "cell_type": "code",
   "execution_count": null,
   "metadata": {
    "collapsed": true
   },
   "outputs": [],
   "source": []
  }
 ],
 "metadata": {
  "kernelspec": {
   "display_name": "Python 3",
   "language": "python",
   "name": "python3"
  },
  "language_info": {
   "codemirror_mode": {
    "name": "ipython",
    "version": 3
   },
   "file_extension": ".py",
   "mimetype": "text/x-python",
   "name": "python",
   "nbconvert_exporter": "python",
   "pygments_lexer": "ipython3",
   "version": "3.6.4"
  }
 },
 "nbformat": 4,
 "nbformat_minor": 2
}

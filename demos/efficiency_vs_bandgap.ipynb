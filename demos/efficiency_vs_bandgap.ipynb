{
 "cells": [
  {
   "cell_type": "code",
   "execution_count": 1,
   "metadata": {
    "collapsed": false
   },
   "outputs": [
    {
     "name": "stderr",
     "output_type": "stream",
     "text": [
      "/Users/kanhua/Dropbox/Programming/python_distribution_try/pypvcell_p3_lw/lib/python3.5/site-packages/matplotlib/cbook.py:128: MatplotlibDeprecationWarning: The finance module has been deprecated in mpl 2.0 and will be removed in mpl 2.2. Please use the matplotlib toolkit finance instead.\n",
      "  warnings.warn(message, mplDeprecation, stacklevel=1)\n"
     ]
    }
   ],
   "source": [
    "%matplotlib inline\n",
    "%load_ext autoreload\n",
    "%autoreload 2\n",
    "import numpy as np\n",
    "import matplotlib.pyplot as plt\n",
    "\n",
    "from pypvcell.solarcell import SQCell,MJCell,DBCell\n",
    "from pypvcell.illumination import Illumination\n",
    "from pypvcell.photocurrent import gen_step_qe"
   ]
  },
  {
   "cell_type": "code",
   "execution_count": 2,
   "metadata": {
    "collapsed": true
   },
   "outputs": [],
   "source": [
    "input_ill=Illumination(\"AM1.5g\")"
   ]
  },
  {
   "cell_type": "code",
   "execution_count": 3,
   "metadata": {
    "collapsed": false
   },
   "outputs": [
    {
     "data": {
      "text/plain": [
       "Text(0,0.5,'efficiency')"
      ]
     },
     "execution_count": 3,
     "metadata": {},
     "output_type": "execute_result"
    },
    {
     "data": {
      "image/png": "[encoded data removed]",
      "text/plain": [
       "<matplotlib.figure.Figure at 0x106426e10>"
      ]
     },
     "metadata": {},
     "output_type": "display_data"
    }
   ],
   "source": [
    "eg_array = np.linspace(0.5, 2.0)\n",
    "eta_array_air_semi_class=[]\n",
    "for eg in eg_array:\n",
    "    sq_cell = SQCell(eg=eg, cell_T=293, n_c=1, n_s=1)\n",
    "    sq_cell.set_input_spectrum(input_spectrum=input_ill)\n",
    "\n",
    "    eta_array_air_semi_class.append(sq_cell.get_eta())\n",
    "\n",
    "plt.plot(eg_array, eta_array_air_semi_class, label=\"nc=1,ns=1 (class)\")\n",
    "plt.xlabel(\"band gap (eV)\")\n",
    "plt.ylabel(\"efficiency\")"
   ]
  },
  {
   "cell_type": "markdown",
   "metadata": {},
   "source": [
    "## Calculate triple-junction cell with Germanium substrate"
   ]
  },
  {
   "cell_type": "code",
   "execution_count": null,
   "metadata": {
    "collapsed": false
   },
   "outputs": [],
   "source": [
    "conc_ill=Illumination(\"AM1.5d\",concentration=1)\n",
    "top_eg=np.linspace(1.6,2.2,num=20) # Set up range of top cell band gaps\n",
    "mid_eg=np.linspace(0.9,1.55,num=20)# Set up range of top cell band gaps\n",
    "\n",
    "eta=np.zeros((20,20)) # Initialize an array for storing efficiencies\n",
    "\n",
    "ge_cell=SQCell(eg=0.67,cell_T=293)\n",
    "for i,teg in enumerate(top_eg):\n",
    "    for j,beg in enumerate(mid_eg):\n",
    "        tc=SQCell(eg=teg,cell_T=293) # Set up top cell\n",
    "        bc=SQCell(eg=beg,cell_T=293) # Set up bottom cell\n",
    "        mj=MJCell([tc, bc,ge_cell]) # Make multijunction cell by \"streaming\" the 1J cells\n",
    "        mj.set_input_spectrum(conc_ill) # Set up the illumination\n",
    "        eta[i,j]=mj.get_eta() # Store the calculated efficiency in an array"
   ]
  },
  {
   "cell_type": "code",
   "execution_count": null,
   "metadata": {
    "collapsed": false
   },
   "outputs": [],
   "source": [
    "levels=np.unique(np.concatenate((np.arange(0.12,0.6,step=0.06),[0.44,0.46,0.48,0.50])))\n",
    "cs=plt.contour(mid_eg,top_eg,eta,levels)\n",
    "plt.clabel(cs,levels, fontsize=9, inline=1,fmt=\"%.2f\")\n",
    "plt.xlabel(\"middle cell band gap (eV)\")\n",
    "plt.ylabel(\"top cell band gap (eV)\")\n",
    "plt.savefig(\"3J_2d_240suns.pdf\")"
   ]
  },
  {
   "cell_type": "code",
   "execution_count": 6,
   "metadata": {
    "collapsed": false
   },
   "outputs": [
    {
     "data": {
      "text/plain": [
       "0.52337342019524313"
      ]
     },
     "execution_count": 6,
     "metadata": {},
     "output_type": "execute_result"
    }
   ],
   "source": [
    "np.max(eta)"
   ]
  },
  {
   "cell_type": "markdown",
   "metadata": {
    "collapsed": true
   },
   "source": [
    "## Compare Table II. of the EtaOpt paper\n",
    "Condition: AM1.5d, Eg=1.13eV, T=300K"
   ]
  },
  {
   "cell_type": "code",
   "execution_count": 16,
   "metadata": {
    "collapsed": false
   },
   "outputs": [
    {
     "data": {
      "text/plain": [
       "0.32125167127436061"
      ]
     },
     "execution_count": 16,
     "metadata": {},
     "output_type": "execute_result"
    }
   ],
   "source": [
    "# The AM1.5d spectrum has to be normalized to 1000 W/m^2\n",
    "input_ill=Illumination(\"AM1.5d\",concentration=1000/918)\n",
    "sq_cell = SQCell(eg=1.13, cell_T=293, n_c=1, n_s=1)\n",
    "sq_cell.set_input_spectrum(input_spectrum=input_ill)\n",
    "sq_cell.get_eta()"
   ]
  },
  {
   "cell_type": "markdown",
   "metadata": {},
   "source": [
    "Condition: 1.84/1.16/0.69"
   ]
  },
  {
   "cell_type": "code",
   "execution_count": 17,
   "metadata": {
    "collapsed": false
   },
   "outputs": [
    {
     "data": {
      "text/plain": [
       "0.61774464003642038"
      ]
     },
     "execution_count": 17,
     "metadata": {},
     "output_type": "execute_result"
    }
   ],
   "source": [
    "ill=Illumination(\"AM1.5d\",concentration=46200*1000/918)\n",
    "mj=MJCell([SQCell(eg=1.84,cell_T=293,n_c=1,n_s=1),\n",
    "          SQCell(eg=1.16,cell_T=293,n_c=1,n_s=1),\n",
    "          SQCell(eg=0.69,cell_T=293,n_c=1,n_s=1)])\n",
    "mj.set_input_spectrum(input_spectrum=ill)\n",
    "mj.get_eta()"
   ]
  },
  {
   "cell_type": "markdown",
   "metadata": {},
   "source": [
    "The result does not seemt to match very well (against 67%). Something goes wrong with the numerical calculation at large concentration."
   ]
  },
  {
   "cell_type": "code",
   "execution_count": 9,
   "metadata": {
    "collapsed": false
   },
   "outputs": [
    {
     "data": {
      "text/plain": [
       "(-8000531.5879639592, 0)"
      ]
     },
     "execution_count": 9,
     "metadata": {},
     "output_type": "execute_result"
    },
    {
     "data": {
      "image/png": "[encoded data removed]",
      "text/plain": [
       "<matplotlib.figure.Figure at 0x1081e8f28>"
      ]
     },
     "metadata": {},
     "output_type": "display_data"
    }
   ],
   "source": [
    "iv=mj.get_iv()\n",
    "plt.plot(*iv)\n",
    "plt.ylim([np.min(iv[1]),0])"
   ]
  },
  {
   "cell_type": "markdown",
   "metadata": {},
   "source": [
    "## Check X/1.1eV\n",
    "Find the optimal band gap on silicon subcell"
   ]
  },
  {
   "cell_type": "code",
   "execution_count": 22,
   "metadata": {
    "collapsed": false
   },
   "outputs": [],
   "source": [
    "input_ill=Illumination(\"AM1.5g\",concentration=1)\n",
    "top_eg=np.linspace(1.6,2,num=100) # Set up range of top cell band gaps\n",
    "\n",
    "eta=np.zeros(100) # Initialize an array for storing efficiencies\n",
    "\n",
    "si_cell=SQCell(eg=1.12,cell_T=293,n_c=3.5,n_s=1)\n",
    "for i,teg in enumerate(top_eg):\n",
    "    #qe=gen_step_qe(teg,1)\n",
    "    #tc=DBCell(qe,rad_eta=1,T=293,n_c=3.5,n_s=1) # Set up top cell\n",
    "    tc=SQCell(teg,cell_T=293)\n",
    "    mj=MJCell([tc, si_cell]) # Make multijunction cell by \"streaming\" the 1J cells\n",
    "    mj.set_input_spectrum(input_ill) # Set up the illumination\n",
    "    eta[i]=mj.get_eta() # Store the calculated efficiency in an array"
   ]
  },
  {
   "cell_type": "code",
   "execution_count": 23,
   "metadata": {
    "collapsed": false
   },
   "outputs": [
    {
     "data": {
      "image/png": "[encoded data removed]",
      "text/plain": [
       "<matplotlib.figure.Figure at 0x10e23ada0>"
      ]
     },
     "metadata": {},
     "output_type": "display_data"
    }
   ],
   "source": [
    "plt.plot(top_eg,eta)\n",
    "plt.xlabel(\"band gap of top cell (eV)\")\n",
    "plt.ylabel(\"efficiency\")\n",
    "plt.savefig(\"sj_on_si.pdf\")"
   ]
  },
  {
   "cell_type": "markdown",
   "metadata": {},
   "source": [
    "Optimal top cell band gap"
   ]
  },
  {
   "cell_type": "code",
   "execution_count": 24,
   "metadata": {
    "collapsed": false
   },
   "outputs": [
    {
     "data": {
      "text/plain": [
       "1.7292929292929293"
      ]
     },
     "execution_count": 24,
     "metadata": {},
     "output_type": "execute_result"
    }
   ],
   "source": [
    "top_eg[np.argmax(eta)]"
   ]
  },
  {
   "cell_type": "markdown",
   "metadata": {},
   "source": [
    "maximum efficiency"
   ]
  },
  {
   "cell_type": "code",
   "execution_count": 25,
   "metadata": {
    "collapsed": false
   },
   "outputs": [
    {
     "data": {
      "text/plain": [
       "0.4262112203246502"
      ]
     },
     "execution_count": 25,
     "metadata": {},
     "output_type": "execute_result"
    }
   ],
   "source": [
    "np.max(eta)"
   ]
  },
  {
   "cell_type": "code",
   "execution_count": null,
   "metadata": {
    "collapsed": true
   },
   "outputs": [],
   "source": []
  }
 ],
 "metadata": {
  "kernelspec": {
   "display_name": "Python 3",
   "language": "python",
   "name": "python3"
  },
  "language_info": {
   "codemirror_mode": {
    "name": "ipython",
    "version": 3
   },
   "file_extension": ".py",
   "mimetype": "text/x-python",
   "name": "python",
   "nbconvert_exporter": "python",
   "pygments_lexer": "ipython3",
   "version": "3.5.1"
  }
 },
 "nbformat": 4,
 "nbformat_minor": 1
}

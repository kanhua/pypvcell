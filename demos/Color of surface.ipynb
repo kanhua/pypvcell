{
 "cells": [
  {
   "cell_type": "markdown",
   "metadata": {},
   "source": [
    "This script attempts to visualize the color of a reflected surface."
   ]
  },
  {
   "cell_type": "code",
   "execution_count": null,
   "metadata": {},
   "outputs": [],
   "source": [
    "%load_ext autoreload\n",
    "%autoreload 2\n",
    "%matplotlib inline\n",
    "import numpy as np\n",
    "import matplotlib.pyplot as plt\n",
    "import matplotlib\n",
    "from pypvcell.transfer_matrix_optics import TMLayers,get_ntotal\n",
    "\n",
    "from pypvcell.spectrum import Spectrum\n",
    "from pypvcell.illumination import Illumination,load_astm\n",
    "\n",
    "font = {'size'   : 22}\n",
    "matplotlib.rc('font', **font)  # pass in the font dict as kwargs"
   ]
  },
  {
   "cell_type": "code",
   "execution_count": null,
   "metadata": {},
   "outputs": [],
   "source": [
    "from colormath.color_conversions import convert_color\n",
    "from colormath.color_objects import LabColor, LCHabColor, SpectralColor, sRGBColor, \\\n",
    "    XYZColor, LCHuvColor, IPTColor\n",
    "import numpy as np\n",
    "import matplotlib.pyplot as plt\n",
    "\n",
    "from pypvcell.illumination import load_astm,load_blackbody"
   ]
  },
  {
   "cell_type": "code",
   "execution_count": null,
   "metadata": {},
   "outputs": [],
   "source": [
    "ILL_RANGE=np.arange(340,840,10)\n",
    "def get_spec_input(spec_values)->dict:\n",
    "    spec_x = [\n",
    "        'spec_340nm', 'spec_350nm', 'spec_360nm', 'spec_370nm',\n",
    "        'spec_380nm', 'spec_390nm', 'spec_400nm', 'spec_410nm',\n",
    "        'spec_420nm', 'spec_430nm', 'spec_440nm', 'spec_450nm',\n",
    "        'spec_460nm', 'spec_470nm', 'spec_480nm', 'spec_490nm',\n",
    "        'spec_500nm', 'spec_510nm', 'spec_520nm', 'spec_530nm',\n",
    "        'spec_540nm', 'spec_550nm', 'spec_560nm', 'spec_570nm',\n",
    "        'spec_580nm', 'spec_590nm', 'spec_600nm', 'spec_610nm',\n",
    "        'spec_620nm', 'spec_630nm', 'spec_640nm', 'spec_650nm',\n",
    "        'spec_660nm', 'spec_670nm', 'spec_680nm', 'spec_690nm',\n",
    "        'spec_700nm', 'spec_710nm', 'spec_720nm', 'spec_730nm',\n",
    "        'spec_740nm', 'spec_750nm', 'spec_760nm', 'spec_770nm',\n",
    "        'spec_780nm', 'spec_790nm', 'spec_800nm', 'spec_810nm',\n",
    "        'spec_820nm', 'spec_830nm'\n",
    "    ]\n",
    "\n",
    "    spec_dict={}\n",
    "    for idx,val in enumerate(spec_values):\n",
    "        spec_dict[spec_x[idx]]=val\n",
    "\n",
    "    return spec_dict\n",
    "\n",
    "def spec_to_srgb(spec_y):\n",
    "    spec_dict=get_spec_input(spec_y)\n",
    "    spc=SpectralColor(**spec_dict,illuminant=\"d65\")\n",
    "    srgb = convert_color(spc, sRGBColor)\n",
    "    r,g,b=srgb.get_value_tuple()\n",
    "    return r,g,b\n",
    "\n",
    "def rgb_single_pixel(r,g,b):\n",
    "    output = np.zeros((1, 1, 3))\n",
    "    output[0, 0, :] = np.array([r, g, b])\n",
    "    return output\n",
    "\n",
    "REFERENCE_ILLUM_D65 = np.array((\n",
    "    39.90,\n",
    "    44.86,\n",
    "    46.59,\n",
    "    51.74,\n",
    "    49.92,\n",
    "    54.60,\n",
    "    82.69,\n",
    "    91.42,\n",
    "    93.37,\n",
    "    86.63,\n",
    "    104.81,\n",
    "    116.96,\n",
    "    117.76,\n",
    "    114.82,\n",
    "    115.89,\n",
    "    108.78,\n",
    "    109.33,\n",
    "    107.78,\n",
    "    104.78,\n",
    "    107.68,\n",
    "    104.40,\n",
    "    104.04,\n",
    "    100.00,\n",
    "    96.34,\n",
    "    95.79,\n",
    "    88.69,\n",
    "    90.02,\n",
    "    89.61,\n",
    "    87.71,\n",
    "    83.30,\n",
    "    83.72,\n",
    "    80.05,\n",
    "    80.24,\n",
    "    82.30,\n",
    "    78.31,\n",
    "    69.74,\n",
    "    71.63,\n",
    "    74.37,\n",
    "    61.62,\n",
    "    69.91,\n",
    "    75.11,\n",
    "    63.61,\n",
    "    46.43,\n",
    "    66.83,\n",
    "    63.40,\n",
    "    64.32,\n",
    "    59.47,\n",
    "    51.97,\n",
    "    57.46,\n",
    "    60.33\n",
    "))"
   ]
  },
  {
   "cell_type": "code",
   "execution_count": null,
   "metadata": {},
   "outputs": [],
   "source": [
    "layers = ['Air', 'TiO2_2', 'SiO2_2']\n",
    "thicknesses = [0, 110, 0]\n",
    "tm_single_ar_layer = TMLayers(layers, thicknesses, wl_range=ILL_RANGE)"
   ]
  },
  {
   "cell_type": "code",
   "execution_count": null,
   "metadata": {},
   "outputs": [],
   "source": [
    "R,T=tm_single_ar_layer.get_RT_fast()"
   ]
  },
  {
   "cell_type": "code",
   "execution_count": null,
   "metadata": {},
   "outputs": [],
   "source": [
    "plt.plot(tm_single_ar_layer.wl_range,R)"
   ]
  },
  {
   "cell_type": "code",
   "execution_count": null,
   "metadata": {},
   "outputs": [],
   "source": [
    "ill=load_astm(\"AM1.5g\")\n",
    "x,y=ill.get_interp_spectrum(ILL_RANGE,to_x_unit='nm')"
   ]
  },
  {
   "cell_type": "code",
   "execution_count": null,
   "metadata": {},
   "outputs": [],
   "source": [
    "plt.plot(x,y)"
   ]
  },
  {
   "cell_type": "code",
   "execution_count": null,
   "metadata": {},
   "outputs": [],
   "source": [
    "reflected_ill=y*R"
   ]
  },
  {
   "cell_type": "code",
   "execution_count": null,
   "metadata": {},
   "outputs": [],
   "source": [
    "r,g,b=spec_to_srgb(reflected_ill)\n",
    "output=rgb_single_pixel(r,g,b)"
   ]
  },
  {
   "cell_type": "code",
   "execution_count": null,
   "metadata": {},
   "outputs": [],
   "source": [
    "plt.imshow(output)"
   ]
  },
  {
   "cell_type": "code",
   "execution_count": null,
   "metadata": {},
   "outputs": [],
   "source": [
    "# thicknesses of TiO2\n",
    "sio2_t=np.linspace(10,200,10)\n",
    "\n",
    "fig_arrangement=(10,3)\n",
    "fig,ax=plt.subplots(*fig_arrangement,figsize=(18,55))\n",
    "for idx,tt in enumerate(sio2_t):\n",
    "    tm_single_ar_layer.set_thickness([0, sio2_t[idx],50])\n",
    "    R,T=tm_single_ar_layer.get_RT_fast()\n",
    "    reflected_ill=REFERENCE_ILLUM_D65*R\n",
    "    #reflected_ill=reflected_ill/reflected_ill[22]\n",
    "    rgb=spec_to_srgb(R)\n",
    "    ot=rgb_single_pixel(*rgb)\n",
    "    ax[idx,0].imshow(ot)\n",
    "    ax[idx,0].set_title(\"{:.1f} nm\".format(sio2_t[idx]))\n",
    "    ax[idx,1].plot(ILL_RANGE,R)\n",
    "    ax[idx,1].set_xlabel(\"wavelength (nm)\")\n",
    "    ax[idx,1].set_ylabel(\"reflectivity\")\n",
    "    ax[idx,1].set_title(\"reflectivity\")\n",
    "    ax[idx,2].plot(ILL_RANGE,reflected_ill,label=\"reflected\")\n",
    "    ax[idx,2].plot(ILL_RANGE,REFERENCE_ILLUM_D65,label='D65')\n",
    "    ax[idx,2].set_xlabel(\"wavelength (nm)\")\n",
    "    ax[idx,2].set_ylabel(\"irradiance\")\n",
    "    ax[idx,2].set_title(\"reflected irradiance\")\n",
    "    ax[idx,2].legend()\n",
    "fig.tight_layout()\n",
    "fig.savefig(\"color_ref_0.png\")"
   ]
  },
  {
   "cell_type": "code",
   "execution_count": null,
   "metadata": {},
   "outputs": [],
   "source": [
    "# thicknesses of TiO2\n",
    "sio2_t=np.linspace(100,200,3)\n",
    "\n",
    "fig_arrangement=(3,3)\n",
    "fig,ax=plt.subplots(*fig_arrangement,figsize=(18,18))\n",
    "for idx,tt in enumerate(sio2_t):\n",
    "    tm_single_ar_layer.set_thickness([0, sio2_t[idx],50])\n",
    "    R,T=tm_single_ar_layer.get_RT_fast()\n",
    "    reflected_ill=REFERENCE_ILLUM_D65*R\n",
    "    #reflected_ill=reflected_ill/reflected_ill[22]\n",
    "    rgb=spec_to_srgb(R)\n",
    "    ot=rgb_single_pixel(*rgb)\n",
    "    ax[idx,0].imshow(ot)\n",
    "    ax[idx,0].set_title(\"{:.1f} nm\".format(sio2_t[idx]))\n",
    "    ax[idx,1].plot(ILL_RANGE,R)\n",
    "    ax[idx,1].set_xlabel(\"wavelength (nm)\",size=22)\n",
    "    ax[idx,1].set_ylabel(\"reflectivity\",size=22)\n",
    "    ax[idx,1].set_title(\"reflectivity\")\n",
    "    ax[idx,2].plot(ILL_RANGE,reflected_ill,label=\"reflected\")\n",
    "    ax[idx,2].plot(ILL_RANGE,REFERENCE_ILLUM_D65,label='D65')\n",
    "    ax[idx,2].set_xlabel(\"wavelength (nm)\",size=22)\n",
    "    ax[idx,2].set_ylabel(\"irradiance\",size=22)\n",
    "    ax[idx,2].set_title(\"reflected irradiance\")\n",
    "    ax[idx,2].legend()\n",
    "fig.tight_layout()\n",
    "fig.savefig(\"color_ref.png\",dpi=600)"
   ]
  },
  {
   "cell_type": "code",
   "execution_count": null,
   "metadata": {},
   "outputs": [],
   "source": [
    "# thicknesses of TiO2\n",
    "step=3\n",
    "sio2_t=np.linspace(10,200,step)\n",
    "\n",
    "fig_arrangement=(step,2)\n",
    "fig,ax=plt.subplots(*fig_arrangement,figsize=(10,15))\n",
    "for idx,tt in enumerate(sio2_t):\n",
    "    tm_single_ar_layer.set_thickness([0, sio2_t[idx],50])\n",
    "    R,T=tm_single_ar_layer.get_RT_fast()\n",
    "    reflected_ill=REFERENCE_ILLUM_D65*R\n",
    "    #reflected_ill=reflected_ill/reflected_ill[22]\n",
    "    rgb=spec_to_srgb(R)\n",
    "    ot=rgb_single_pixel(*rgb)\n",
    "    ax[idx,0].imshow(ot)\n",
    "    ax[idx,0].set_title(\"TiO2={:.1f} nm\".format(sio2_t[idx]))\n",
    "    ax[idx,1].plot(ILL_RANGE,R)\n",
    "    ax[idx,1].set_xlabel(\"wavelength (nm)\")\n",
    "    ax[idx,1].set_ylabel(\"reflectivity\")\n",
    "    ax[idx,1].set_title(\"reflectivity\")\n",
    "fig.tight_layout()\n",
    "fig.savefig(\"color_ref.pdf\")"
   ]
  },
  {
   "cell_type": "code",
   "execution_count": null,
   "metadata": {},
   "outputs": [],
   "source": []
  },
  {
   "cell_type": "code",
   "execution_count": null,
   "metadata": {},
   "outputs": [],
   "source": []
  }
 ],
 "metadata": {
  "kernelspec": {
   "display_name": "Python 3",
   "language": "python",
   "name": "python3"
  },
  "language_info": {
   "codemirror_mode": {
    "name": "ipython",
    "version": 3
   },
   "file_extension": ".py",
   "mimetype": "text/x-python",
   "name": "python",
   "nbconvert_exporter": "python",
   "pygments_lexer": "ipython3",
   "version": "3.6.8"
  }
 },
 "nbformat": 4,
 "nbformat_minor": 1
}

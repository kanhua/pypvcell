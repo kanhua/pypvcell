{
 "cells": [
  {
   "cell_type": "markdown",
   "metadata": {},
   "source": [
    "This is the demonstration how to use NEDO data process utility"
   ]
  },
  {
   "cell_type": "code",
   "execution_count": 1,
   "metadata": {
    "collapsed": true
   },
   "outputs": [],
   "source": [
    "%load_ext autoreload\n",
    "%autoreload 2\n",
    "%matplotlib inline\n",
    "\n",
    "import matplotlib.pyplot as plt\n",
    "import numpy as np\n",
    "import pandas as pd\n",
    "import os\n",
    "\n",
    "from pypvcell.solarcell import SQCell,MJCell,TransparentCell\n",
    "from pypvcell.illumination import Illumination\n",
    "from pypvcell.spectrum import Spectrum\n",
    "\n",
    "from pypvcell.metpv_reader import NEDOLocation\n",
    "\n",
    "from pvlib.location import Location\n",
    "from pvlib.tracking import SingleAxisTracker\n",
    "from pvlib.irradiance import total_irrad,aoi_projection"
   ]
  },
  {
   "cell_type": "code",
   "execution_count": 2,
   "metadata": {
    "collapsed": true
   },
   "outputs": [],
   "source": [
    "nedo_solar_file='hm51106year.csv'"
   ]
  },
  {
   "cell_type": "markdown",
   "metadata": {},
   "source": [
    "## Load the data into a ```NEDOLocation``` object"
   ]
  },
  {
   "cell_type": "code",
   "execution_count": 3,
   "metadata": {
    "collapsed": true
   },
   "outputs": [],
   "source": [
    "ngo_loc=NEDOLocation(nedo_solar_file)\n",
    "df=ngo_loc.main_df"
   ]
  },
  {
   "cell_type": "code",
   "execution_count": 4,
   "metadata": {},
   "outputs": [
    {
     "data": {
      "text/html": [
       "<div>\n",
       "<style>\n",
       "    .dataframe thead tr:only-child th {\n",
       "        text-align: right;\n",
       "    }\n",
       "\n",
       "    .dataframe thead th {\n",
       "        text-align: left;\n",
       "    }\n",
       "\n",
       "    .dataframe tbody tr th {\n",
       "        vertical-align: top;\n",
       "    }\n",
       "</style>\n",
       "<table border=\"1\" class=\"dataframe\">\n",
       "  <thead>\n",
       "    <tr style=\"text-align: right;\">\n",
       "      <th></th>\n",
       "      <th>measure_type</th>\n",
       "      <th>month</th>\n",
       "      <th>day</th>\n",
       "      <th>wind_speed</th>\n",
       "      <th>1</th>\n",
       "      <th>2</th>\n",
       "      <th>3</th>\n",
       "      <th>4</th>\n",
       "      <th>5</th>\n",
       "      <th>6</th>\n",
       "      <th>...</th>\n",
       "      <th>21</th>\n",
       "      <th>22</th>\n",
       "      <th>23</th>\n",
       "      <th>24</th>\n",
       "      <th>max</th>\n",
       "      <th>min</th>\n",
       "      <th>integral</th>\n",
       "      <th>avg</th>\n",
       "      <th>day_num</th>\n",
       "      <th>year</th>\n",
       "    </tr>\n",
       "  </thead>\n",
       "  <tbody>\n",
       "    <tr>\n",
       "      <th>2016-01-01</th>\n",
       "      <td>1</td>\n",
       "      <td>1</td>\n",
       "      <td>1</td>\n",
       "      <td>17.9</td>\n",
       "      <td>0</td>\n",
       "      <td>0</td>\n",
       "      <td>0</td>\n",
       "      <td>0</td>\n",
       "      <td>0</td>\n",
       "      <td>0</td>\n",
       "      <td>...</td>\n",
       "      <td>0</td>\n",
       "      <td>0</td>\n",
       "      <td>0</td>\n",
       "      <td>0</td>\n",
       "      <td>175</td>\n",
       "      <td>NaN</td>\n",
       "      <td>926.0</td>\n",
       "      <td>NaN</td>\n",
       "      <td>1</td>\n",
       "      <td>2016</td>\n",
       "    </tr>\n",
       "    <tr>\n",
       "      <th>2016-01-01</th>\n",
       "      <td>2</td>\n",
       "      <td>1</td>\n",
       "      <td>1</td>\n",
       "      <td>17.9</td>\n",
       "      <td>0</td>\n",
       "      <td>0</td>\n",
       "      <td>0</td>\n",
       "      <td>0</td>\n",
       "      <td>0</td>\n",
       "      <td>0</td>\n",
       "      <td>...</td>\n",
       "      <td>0</td>\n",
       "      <td>0</td>\n",
       "      <td>0</td>\n",
       "      <td>0</td>\n",
       "      <td>118</td>\n",
       "      <td>NaN</td>\n",
       "      <td>500.0</td>\n",
       "      <td>NaN</td>\n",
       "      <td>1</td>\n",
       "      <td>2016</td>\n",
       "    </tr>\n",
       "    <tr>\n",
       "      <th>2016-01-01</th>\n",
       "      <td>3</td>\n",
       "      <td>1</td>\n",
       "      <td>1</td>\n",
       "      <td>17.9</td>\n",
       "      <td>0</td>\n",
       "      <td>0</td>\n",
       "      <td>0</td>\n",
       "      <td>0</td>\n",
       "      <td>0</td>\n",
       "      <td>0</td>\n",
       "      <td>...</td>\n",
       "      <td>0</td>\n",
       "      <td>0</td>\n",
       "      <td>0</td>\n",
       "      <td>0</td>\n",
       "      <td>77</td>\n",
       "      <td>NaN</td>\n",
       "      <td>426.0</td>\n",
       "      <td>NaN</td>\n",
       "      <td>1</td>\n",
       "      <td>2016</td>\n",
       "    </tr>\n",
       "    <tr>\n",
       "      <th>2016-01-01</th>\n",
       "      <td>4</td>\n",
       "      <td>1</td>\n",
       "      <td>1</td>\n",
       "      <td>17.9</td>\n",
       "      <td>0</td>\n",
       "      <td>0</td>\n",
       "      <td>0</td>\n",
       "      <td>0</td>\n",
       "      <td>0</td>\n",
       "      <td>0</td>\n",
       "      <td>...</td>\n",
       "      <td>0</td>\n",
       "      <td>0</td>\n",
       "      <td>0</td>\n",
       "      <td>0</td>\n",
       "      <td>10</td>\n",
       "      <td>NaN</td>\n",
       "      <td>52.0</td>\n",
       "      <td>NaN</td>\n",
       "      <td>1</td>\n",
       "      <td>2016</td>\n",
       "    </tr>\n",
       "    <tr>\n",
       "      <th>2016-01-01</th>\n",
       "      <td>5</td>\n",
       "      <td>1</td>\n",
       "      <td>1</td>\n",
       "      <td>17.9</td>\n",
       "      <td>31</td>\n",
       "      <td>21</td>\n",
       "      <td>17</td>\n",
       "      <td>12</td>\n",
       "      <td>11</td>\n",
       "      <td>17</td>\n",
       "      <td>...</td>\n",
       "      <td>51</td>\n",
       "      <td>41</td>\n",
       "      <td>49</td>\n",
       "      <td>49</td>\n",
       "      <td>104</td>\n",
       "      <td>11.0</td>\n",
       "      <td>NaN</td>\n",
       "      <td>48.0</td>\n",
       "      <td>1</td>\n",
       "      <td>2016</td>\n",
       "    </tr>\n",
       "  </tbody>\n",
       "</table>\n",
       "<p>5 rows × 34 columns</p>\n",
       "</div>"
      ],
      "text/plain": [
       "            measure_type  month  day  wind_speed   1   2   3   4   5   6  \\\n",
       "2016-01-01             1      1    1        17.9   0   0   0   0   0   0   \n",
       "2016-01-01             2      1    1        17.9   0   0   0   0   0   0   \n",
       "2016-01-01             3      1    1        17.9   0   0   0   0   0   0   \n",
       "2016-01-01             4      1    1        17.9   0   0   0   0   0   0   \n",
       "2016-01-01             5      1    1        17.9  31  21  17  12  11  17   \n",
       "\n",
       "            ...   21  22  23  24  max   min  integral   avg  day_num  year  \n",
       "2016-01-01  ...    0   0   0   0  175   NaN     926.0   NaN        1  2016  \n",
       "2016-01-01  ...    0   0   0   0  118   NaN     500.0   NaN        1  2016  \n",
       "2016-01-01  ...    0   0   0   0   77   NaN     426.0   NaN        1  2016  \n",
       "2016-01-01  ...    0   0   0   0   10   NaN      52.0   NaN        1  2016  \n",
       "2016-01-01  ...   51  41  49  49  104  11.0       NaN  48.0        1  2016  \n",
       "\n",
       "[5 rows x 34 columns]"
      ]
     },
     "execution_count": 4,
     "metadata": {},
     "output_type": "execute_result"
    }
   ],
   "source": [
    "ngo_loc.main_df.head()"
   ]
  },
  {
   "cell_type": "markdown",
   "metadata": {},
   "source": [
    "```main_df``` adds the column names into the raw data and convert it to a pandas.DataFrame object"
   ]
  },
  {
   "cell_type": "markdown",
   "metadata": {},
   "source": [
    "## Convert the NEDO data into a more useful form\n",
    "Add column names into the raw data does not make the dataframe easier to use. ```nedo_data_reader``` can \"unstack\" the data, i.e., making each row an entry of particular time."
   ]
  },
  {
   "cell_type": "code",
   "execution_count": 5,
   "metadata": {},
   "outputs": [
    {
     "name": "stdout",
     "output_type": "stream",
     "text": [
      "CPU times: user 11.5 s, sys: 174 ms, total: 11.7 s\n",
      "Wall time: 11.7 s\n"
     ]
    }
   ],
   "source": [
    "%%time\n",
    "ngo_df=ngo_loc.extract_unstack_hour_data(norm=False)"
   ]
  },
  {
   "cell_type": "code",
   "execution_count": 6,
   "metadata": {},
   "outputs": [
    {
     "data": {
      "text/html": [
       "<div>\n",
       "<style>\n",
       "    .dataframe thead tr:only-child th {\n",
       "        text-align: right;\n",
       "    }\n",
       "\n",
       "    .dataframe thead th {\n",
       "        text-align: left;\n",
       "    }\n",
       "\n",
       "    .dataframe tbody tr th {\n",
       "        vertical-align: top;\n",
       "    }\n",
       "</style>\n",
       "<table border=\"1\" class=\"dataframe\">\n",
       "  <thead>\n",
       "    <tr style=\"text-align: right;\">\n",
       "      <th></th>\n",
       "      <th>GHI</th>\n",
       "      <th>DHI</th>\n",
       "      <th>dHI</th>\n",
       "      <th>sun_time</th>\n",
       "      <th>temperature</th>\n",
       "      <th>wind_dir</th>\n",
       "      <th>wind_speed</th>\n",
       "      <th>rain</th>\n",
       "      <th>snow</th>\n",
       "      <th>avg_time</th>\n",
       "    </tr>\n",
       "    <tr>\n",
       "      <th>avg_time</th>\n",
       "      <th></th>\n",
       "      <th></th>\n",
       "      <th></th>\n",
       "      <th></th>\n",
       "      <th></th>\n",
       "      <th></th>\n",
       "      <th></th>\n",
       "      <th></th>\n",
       "      <th></th>\n",
       "      <th></th>\n",
       "    </tr>\n",
       "  </thead>\n",
       "  <tbody>\n",
       "    <tr>\n",
       "      <th>2016-01-01 00:30:00+09:00</th>\n",
       "      <td>0.0</td>\n",
       "      <td>0.0</td>\n",
       "      <td>0.0</td>\n",
       "      <td>0.0</td>\n",
       "      <td>31.0</td>\n",
       "      <td>10.0</td>\n",
       "      <td>47.0</td>\n",
       "      <td>0.0</td>\n",
       "      <td>0.0</td>\n",
       "      <td>2016-01-01 00:30:00+09:00</td>\n",
       "    </tr>\n",
       "    <tr>\n",
       "      <th>2016-01-01 01:30:00+09:00</th>\n",
       "      <td>0.0</td>\n",
       "      <td>0.0</td>\n",
       "      <td>0.0</td>\n",
       "      <td>0.0</td>\n",
       "      <td>21.0</td>\n",
       "      <td>10.0</td>\n",
       "      <td>37.0</td>\n",
       "      <td>0.0</td>\n",
       "      <td>0.0</td>\n",
       "      <td>2016-01-01 01:30:00+09:00</td>\n",
       "    </tr>\n",
       "    <tr>\n",
       "      <th>2016-01-01 02:30:00+09:00</th>\n",
       "      <td>0.0</td>\n",
       "      <td>0.0</td>\n",
       "      <td>0.0</td>\n",
       "      <td>0.0</td>\n",
       "      <td>17.0</td>\n",
       "      <td>10.0</td>\n",
       "      <td>20.0</td>\n",
       "      <td>0.0</td>\n",
       "      <td>0.0</td>\n",
       "      <td>2016-01-01 02:30:00+09:00</td>\n",
       "    </tr>\n",
       "    <tr>\n",
       "      <th>2016-01-01 03:30:00+09:00</th>\n",
       "      <td>0.0</td>\n",
       "      <td>0.0</td>\n",
       "      <td>0.0</td>\n",
       "      <td>0.0</td>\n",
       "      <td>12.0</td>\n",
       "      <td>3.0</td>\n",
       "      <td>19.0</td>\n",
       "      <td>0.0</td>\n",
       "      <td>0.0</td>\n",
       "      <td>2016-01-01 03:30:00+09:00</td>\n",
       "    </tr>\n",
       "    <tr>\n",
       "      <th>2016-01-01 04:30:00+09:00</th>\n",
       "      <td>0.0</td>\n",
       "      <td>0.0</td>\n",
       "      <td>0.0</td>\n",
       "      <td>0.0</td>\n",
       "      <td>11.0</td>\n",
       "      <td>14.0</td>\n",
       "      <td>24.0</td>\n",
       "      <td>0.0</td>\n",
       "      <td>0.0</td>\n",
       "      <td>2016-01-01 04:30:00+09:00</td>\n",
       "    </tr>\n",
       "  </tbody>\n",
       "</table>\n",
       "</div>"
      ],
      "text/plain": [
       "                           GHI  DHI  dHI  sun_time  temperature  wind_dir  \\\n",
       "avg_time                                                                    \n",
       "2016-01-01 00:30:00+09:00  0.0  0.0  0.0       0.0         31.0      10.0   \n",
       "2016-01-01 01:30:00+09:00  0.0  0.0  0.0       0.0         21.0      10.0   \n",
       "2016-01-01 02:30:00+09:00  0.0  0.0  0.0       0.0         17.0      10.0   \n",
       "2016-01-01 03:30:00+09:00  0.0  0.0  0.0       0.0         12.0       3.0   \n",
       "2016-01-01 04:30:00+09:00  0.0  0.0  0.0       0.0         11.0      14.0   \n",
       "\n",
       "                           wind_speed  rain  snow                  avg_time  \n",
       "avg_time                                                                     \n",
       "2016-01-01 00:30:00+09:00        47.0   0.0   0.0 2016-01-01 00:30:00+09:00  \n",
       "2016-01-01 01:30:00+09:00        37.0   0.0   0.0 2016-01-01 01:30:00+09:00  \n",
       "2016-01-01 02:30:00+09:00        20.0   0.0   0.0 2016-01-01 02:30:00+09:00  \n",
       "2016-01-01 03:30:00+09:00        19.0   0.0   0.0 2016-01-01 03:30:00+09:00  \n",
       "2016-01-01 04:30:00+09:00        24.0   0.0   0.0 2016-01-01 04:30:00+09:00  "
      ]
     },
     "execution_count": 6,
     "metadata": {},
     "output_type": "execute_result"
    }
   ],
   "source": [
    "ngo_df.head()"
   ]
  },
  {
   "cell_type": "code",
   "execution_count": 7,
   "metadata": {
    "collapsed": true
   },
   "outputs": [],
   "source": [
    "ngo_df.to_csv(\"ngo_df.csv\")"
   ]
  },
  {
   "cell_type": "markdown",
   "metadata": {},
   "source": [
    "### Calculate the overall insolation"
   ]
  },
  {
   "cell_type": "code",
   "execution_count": 8,
   "metadata": {},
   "outputs": [
    {
     "data": {
      "text/plain": [
       "GHI    504188.0\n",
       "DHI    263011.0\n",
       "dHI    241177.0\n",
       "dtype: float64"
      ]
     },
     "execution_count": 8,
     "metadata": {},
     "output_type": "execute_result"
    }
   ],
   "source": [
    "ngo_df[['GHI','DHI','dHI']].sum()"
   ]
  },
  {
   "cell_type": "markdown",
   "metadata": {},
   "source": [
    "### Extrat DNI\n",
    "Daily METPV-11 data records the solar insolation on a horizontal plane. We can use ```get_DNI()``` to recalculate the DNI data."
   ]
  },
  {
   "cell_type": "code",
   "execution_count": 9,
   "metadata": {
    "collapsed": true
   },
   "outputs": [],
   "source": [
    "ngo_dni=ngo_loc.get_DNI()"
   ]
  },
  {
   "cell_type": "code",
   "execution_count": 10,
   "metadata": {},
   "outputs": [
    {
     "data": {
      "text/plain": [
       "avg_time\n",
       "2016-01-01 00:30:00+09:00   -0.0\n",
       "2016-01-01 01:30:00+09:00   -0.0\n",
       "2016-01-01 02:30:00+09:00   -0.0\n",
       "2016-01-01 03:30:00+09:00   -0.0\n",
       "2016-01-01 04:30:00+09:00   -0.0\n",
       "dtype: float64"
      ]
     },
     "execution_count": 10,
     "metadata": {},
     "output_type": "execute_result"
    }
   ],
   "source": [
    "ngo_dni.head()"
   ]
  },
  {
   "cell_type": "code",
   "execution_count": 11,
   "metadata": {},
   "outputs": [
    {
     "data": {
      "text/plain": [
       "(0, 1000)"
      ]
     },
     "execution_count": 11,
     "metadata": {},
     "output_type": "execute_result"
    },
    {
     "data": {
      "image/png": "[encoded data removed]",
      "text/plain": [
       "<matplotlib.figure.Figure at 0x11adc5e80>"
      ]
     },
     "metadata": {},
     "output_type": "display_data"
    }
   ],
   "source": [
    "plt.plot(ngo_dni)\n",
    "plt.ylim([0,1000])"
   ]
  },
  {
   "cell_type": "markdown",
   "metadata": {},
   "source": [
    "## Calculate DNI on a tilted surface"
   ]
  },
  {
   "cell_type": "code",
   "execution_count": 12,
   "metadata": {
    "collapsed": true
   },
   "outputs": [],
   "source": [
    "ngo_tilt_irr=ngo_loc.tilt_irr(include_solar_pos=True)"
   ]
  },
  {
   "cell_type": "code",
   "execution_count": 13,
   "metadata": {},
   "outputs": [
    {
     "data": {
      "text/html": [
       "<div>\n",
       "<style>\n",
       "    .dataframe thead tr:only-child th {\n",
       "        text-align: right;\n",
       "    }\n",
       "\n",
       "    .dataframe thead th {\n",
       "        text-align: left;\n",
       "    }\n",
       "\n",
       "    .dataframe tbody tr th {\n",
       "        vertical-align: top;\n",
       "    }\n",
       "</style>\n",
       "<table border=\"1\" class=\"dataframe\">\n",
       "  <thead>\n",
       "    <tr style=\"text-align: right;\">\n",
       "      <th></th>\n",
       "      <th>GHI</th>\n",
       "      <th>DHI</th>\n",
       "      <th>dHI</th>\n",
       "      <th>sun_time</th>\n",
       "      <th>temperature</th>\n",
       "      <th>wind_dir</th>\n",
       "      <th>wind_speed</th>\n",
       "      <th>rain</th>\n",
       "      <th>snow</th>\n",
       "      <th>avg_time</th>\n",
       "      <th>...</th>\n",
       "      <th>poa_sky_diffuse</th>\n",
       "      <th>poa_ground_diffuse</th>\n",
       "      <th>aoi</th>\n",
       "      <th>DNI</th>\n",
       "      <th>apparent_elevation</th>\n",
       "      <th>apparent_zenith</th>\n",
       "      <th>azimuth</th>\n",
       "      <th>elevation</th>\n",
       "      <th>equation_of_time</th>\n",
       "      <th>zenith</th>\n",
       "    </tr>\n",
       "    <tr>\n",
       "      <th>avg_time</th>\n",
       "      <th></th>\n",
       "      <th></th>\n",
       "      <th></th>\n",
       "      <th></th>\n",
       "      <th></th>\n",
       "      <th></th>\n",
       "      <th></th>\n",
       "      <th></th>\n",
       "      <th></th>\n",
       "      <th></th>\n",
       "      <th></th>\n",
       "      <th></th>\n",
       "      <th></th>\n",
       "      <th></th>\n",
       "      <th></th>\n",
       "      <th></th>\n",
       "      <th></th>\n",
       "      <th></th>\n",
       "      <th></th>\n",
       "      <th></th>\n",
       "      <th></th>\n",
       "    </tr>\n",
       "  </thead>\n",
       "  <tbody>\n",
       "    <tr>\n",
       "      <th>2016-01-01 00:30:00+09:00</th>\n",
       "      <td>0.0</td>\n",
       "      <td>0.0</td>\n",
       "      <td>0.0</td>\n",
       "      <td>0.0</td>\n",
       "      <td>31.0</td>\n",
       "      <td>10.0</td>\n",
       "      <td>47.0</td>\n",
       "      <td>0.0</td>\n",
       "      <td>0.0</td>\n",
       "      <td>2016-01-01 00:30:00+09:00</td>\n",
       "      <td>...</td>\n",
       "      <td>0.0</td>\n",
       "      <td>0.0</td>\n",
       "      <td>153.413612</td>\n",
       "      <td>-0.0</td>\n",
       "      <td>-72.544908</td>\n",
       "      <td>162.544908</td>\n",
       "      <td>45.990508</td>\n",
       "      <td>-72.544908</td>\n",
       "      <td>-2.901565</td>\n",
       "      <td>162.544908</td>\n",
       "    </tr>\n",
       "    <tr>\n",
       "      <th>2016-01-01 01:30:00+09:00</th>\n",
       "      <td>0.0</td>\n",
       "      <td>0.0</td>\n",
       "      <td>0.0</td>\n",
       "      <td>0.0</td>\n",
       "      <td>21.0</td>\n",
       "      <td>10.0</td>\n",
       "      <td>37.0</td>\n",
       "      <td>0.0</td>\n",
       "      <td>0.0</td>\n",
       "      <td>2016-01-01 01:30:00+09:00</td>\n",
       "      <td>...</td>\n",
       "      <td>0.0</td>\n",
       "      <td>0.0</td>\n",
       "      <td>143.902222</td>\n",
       "      <td>-0.0</td>\n",
       "      <td>-62.146860</td>\n",
       "      <td>152.146860</td>\n",
       "      <td>70.266810</td>\n",
       "      <td>-62.146860</td>\n",
       "      <td>-2.921438</td>\n",
       "      <td>152.146860</td>\n",
       "    </tr>\n",
       "    <tr>\n",
       "      <th>2016-01-01 02:30:00+09:00</th>\n",
       "      <td>0.0</td>\n",
       "      <td>0.0</td>\n",
       "      <td>0.0</td>\n",
       "      <td>0.0</td>\n",
       "      <td>17.0</td>\n",
       "      <td>10.0</td>\n",
       "      <td>20.0</td>\n",
       "      <td>0.0</td>\n",
       "      <td>0.0</td>\n",
       "      <td>2016-01-01 02:30:00+09:00</td>\n",
       "      <td>...</td>\n",
       "      <td>0.0</td>\n",
       "      <td>0.0</td>\n",
       "      <td>131.815509</td>\n",
       "      <td>-0.0</td>\n",
       "      <td>-50.338026</td>\n",
       "      <td>140.338026</td>\n",
       "      <td>83.274763</td>\n",
       "      <td>-50.338026</td>\n",
       "      <td>-2.941303</td>\n",
       "      <td>140.338026</td>\n",
       "    </tr>\n",
       "    <tr>\n",
       "      <th>2016-01-01 03:30:00+09:00</th>\n",
       "      <td>0.0</td>\n",
       "      <td>0.0</td>\n",
       "      <td>0.0</td>\n",
       "      <td>0.0</td>\n",
       "      <td>12.0</td>\n",
       "      <td>3.0</td>\n",
       "      <td>19.0</td>\n",
       "      <td>0.0</td>\n",
       "      <td>0.0</td>\n",
       "      <td>2016-01-01 03:30:00+09:00</td>\n",
       "      <td>...</td>\n",
       "      <td>0.0</td>\n",
       "      <td>0.0</td>\n",
       "      <td>118.688199</td>\n",
       "      <td>-0.0</td>\n",
       "      <td>-38.225568</td>\n",
       "      <td>128.225568</td>\n",
       "      <td>92.549976</td>\n",
       "      <td>-38.225568</td>\n",
       "      <td>-2.961160</td>\n",
       "      <td>128.225568</td>\n",
       "    </tr>\n",
       "    <tr>\n",
       "      <th>2016-01-01 04:30:00+09:00</th>\n",
       "      <td>0.0</td>\n",
       "      <td>0.0</td>\n",
       "      <td>0.0</td>\n",
       "      <td>0.0</td>\n",
       "      <td>11.0</td>\n",
       "      <td>14.0</td>\n",
       "      <td>24.0</td>\n",
       "      <td>0.0</td>\n",
       "      <td>0.0</td>\n",
       "      <td>2016-01-01 04:30:00+09:00</td>\n",
       "      <td>...</td>\n",
       "      <td>0.0</td>\n",
       "      <td>0.0</td>\n",
       "      <td>105.108603</td>\n",
       "      <td>-0.0</td>\n",
       "      <td>-26.182925</td>\n",
       "      <td>116.182925</td>\n",
       "      <td>100.521619</td>\n",
       "      <td>-26.182925</td>\n",
       "      <td>-2.981010</td>\n",
       "      <td>116.182925</td>\n",
       "    </tr>\n",
       "  </tbody>\n",
       "</table>\n",
       "<p>5 rows × 23 columns</p>\n",
       "</div>"
      ],
      "text/plain": [
       "                           GHI  DHI  dHI  sun_time  temperature  wind_dir  \\\n",
       "avg_time                                                                    \n",
       "2016-01-01 00:30:00+09:00  0.0  0.0  0.0       0.0         31.0      10.0   \n",
       "2016-01-01 01:30:00+09:00  0.0  0.0  0.0       0.0         21.0      10.0   \n",
       "2016-01-01 02:30:00+09:00  0.0  0.0  0.0       0.0         17.0      10.0   \n",
       "2016-01-01 03:30:00+09:00  0.0  0.0  0.0       0.0         12.0       3.0   \n",
       "2016-01-01 04:30:00+09:00  0.0  0.0  0.0       0.0         11.0      14.0   \n",
       "\n",
       "                           wind_speed  rain  snow                  avg_time  \\\n",
       "avg_time                                                                      \n",
       "2016-01-01 00:30:00+09:00        47.0   0.0   0.0 2016-01-01 00:30:00+09:00   \n",
       "2016-01-01 01:30:00+09:00        37.0   0.0   0.0 2016-01-01 01:30:00+09:00   \n",
       "2016-01-01 02:30:00+09:00        20.0   0.0   0.0 2016-01-01 02:30:00+09:00   \n",
       "2016-01-01 03:30:00+09:00        19.0   0.0   0.0 2016-01-01 03:30:00+09:00   \n",
       "2016-01-01 04:30:00+09:00        24.0   0.0   0.0 2016-01-01 04:30:00+09:00   \n",
       "\n",
       "                              ...      poa_sky_diffuse  poa_ground_diffuse  \\\n",
       "avg_time                      ...                                            \n",
       "2016-01-01 00:30:00+09:00     ...                  0.0                 0.0   \n",
       "2016-01-01 01:30:00+09:00     ...                  0.0                 0.0   \n",
       "2016-01-01 02:30:00+09:00     ...                  0.0                 0.0   \n",
       "2016-01-01 03:30:00+09:00     ...                  0.0                 0.0   \n",
       "2016-01-01 04:30:00+09:00     ...                  0.0                 0.0   \n",
       "\n",
       "                                  aoi  DNI  apparent_elevation  \\\n",
       "avg_time                                                         \n",
       "2016-01-01 00:30:00+09:00  153.413612 -0.0          -72.544908   \n",
       "2016-01-01 01:30:00+09:00  143.902222 -0.0          -62.146860   \n",
       "2016-01-01 02:30:00+09:00  131.815509 -0.0          -50.338026   \n",
       "2016-01-01 03:30:00+09:00  118.688199 -0.0          -38.225568   \n",
       "2016-01-01 04:30:00+09:00  105.108603 -0.0          -26.182925   \n",
       "\n",
       "                           apparent_zenith     azimuth  elevation  \\\n",
       "avg_time                                                            \n",
       "2016-01-01 00:30:00+09:00       162.544908   45.990508 -72.544908   \n",
       "2016-01-01 01:30:00+09:00       152.146860   70.266810 -62.146860   \n",
       "2016-01-01 02:30:00+09:00       140.338026   83.274763 -50.338026   \n",
       "2016-01-01 03:30:00+09:00       128.225568   92.549976 -38.225568   \n",
       "2016-01-01 04:30:00+09:00       116.182925  100.521619 -26.182925   \n",
       "\n",
       "                           equation_of_time      zenith  \n",
       "avg_time                                                 \n",
       "2016-01-01 00:30:00+09:00         -2.901565  162.544908  \n",
       "2016-01-01 01:30:00+09:00         -2.921438  152.146860  \n",
       "2016-01-01 02:30:00+09:00         -2.941303  140.338026  \n",
       "2016-01-01 03:30:00+09:00         -2.961160  128.225568  \n",
       "2016-01-01 04:30:00+09:00         -2.981010  116.182925  \n",
       "\n",
       "[5 rows x 23 columns]"
      ]
     },
     "execution_count": 13,
     "metadata": {},
     "output_type": "execute_result"
    }
   ],
   "source": [
    "ngo_tilt_irr.head()"
   ]
  },
  {
   "cell_type": "code",
   "execution_count": 14,
   "metadata": {},
   "outputs": [
    {
     "data": {
      "text/plain": [
       "Index(['GHI', 'DHI', 'dHI', 'sun_time', 'temperature', 'wind_dir',\n",
       "       'wind_speed', 'rain', 'snow', 'avg_time', 'poa_global', 'poa_direct',\n",
       "       'poa_diffuse', 'poa_sky_diffuse', 'poa_ground_diffuse', 'aoi', 'DNI',\n",
       "       'apparent_elevation', 'apparent_zenith', 'azimuth', 'elevation',\n",
       "       'equation_of_time', 'zenith'],\n",
       "      dtype='object')"
      ]
     },
     "execution_count": 14,
     "metadata": {},
     "output_type": "execute_result"
    }
   ],
   "source": [
    "ngo_tilt_irr.columns"
   ]
  },
  {
   "cell_type": "code",
   "execution_count": 15,
   "metadata": {},
   "outputs": [
    {
     "data": {
      "text/plain": [
       "<matplotlib.legend.Legend at 0x11aafdda0>"
      ]
     },
     "execution_count": 15,
     "metadata": {},
     "output_type": "execute_result"
    },
    {
     "data": {
      "image/png": "[encoded data removed]",
      "text/plain": [
       "<matplotlib.figure.Figure at 0x11a4326a0>"
      ]
     },
     "metadata": {},
     "output_type": "display_data"
    }
   ],
   "source": [
    "plt.plot(ngo_tilt_irr['poa_direct'],alpha=0.5,label='incidence on tilt surface')\n",
    "plt.plot(ngo_dni,alpha=0.5,label='DNI')\n",
    "plt.ylim([0,1000])\n",
    "plt.legend()"
   ]
  },
  {
   "cell_type": "markdown",
   "metadata": {},
   "source": [
    "### Visualize the sun irradiances in angular plot"
   ]
  },
  {
   "cell_type": "code",
   "execution_count": 16,
   "metadata": {},
   "outputs": [
    {
     "data": {
      "image/png": "[encoded data removed]",
      "text/plain": [
       "<matplotlib.figure.Figure at 0x11abe3ac8>"
      ]
     },
     "metadata": {},
     "output_type": "display_data"
    }
   ],
   "source": [
    "from matplotlib.colors import LogNorm\n",
    "filtered_df=ngo_tilt_irr.loc[(ngo_tilt_irr['poa_direct']>1) & (ngo_tilt_irr['poa_direct']<500),\n",
    "                             [\"azimuth\",\"zenith\",'poa_direct']]\n",
    "ax = plt.subplot(111, projection='polar')\n",
    "ax.plot(filtered_df['azimuth'].values*np.pi/180-np.pi/2, \n",
    "        filtered_df['zenith'].values-ngo_loc.latitude,'.')\n",
    "plt.show()"
   ]
  },
  {
   "cell_type": "code",
   "execution_count": 17,
   "metadata": {},
   "outputs": [
    {
     "data": {
      "image/png": "[encoded data removed]",
      "text/plain": [
       "<matplotlib.figure.Figure at 0x11a3d2208>"
      ]
     },
     "metadata": {},
     "output_type": "display_data"
    }
   ],
   "source": [
    "import matplotlib as mpl\n",
    "filtered_df=ngo_tilt_irr.loc[(ngo_tilt_irr['poa_direct']>1) & (ngo_tilt_irr['poa_direct']<500),\n",
    "                             [\"azimuth\",\"zenith\",'poa_direct']]\n",
    "ax = plt.subplot(111, projection='polar')\n",
    "colormap = plt.get_cmap('hsv')\n",
    "norm = mpl.colors.Normalize(1, 400)\n",
    "cax=ax.scatter(filtered_df['azimuth'].values*np.pi/180-np.pi/2, filtered_df['zenith'].values-ngo_loc.latitude,\n",
    "           c=filtered_df['poa_direct'].values,s=200,norm=norm,alpha=0.5)\n",
    "plt.colorbar(cax)\n",
    "plt.savefig(\"nagoya_angular.png\",dpi=600)\n",
    "plt.show()"
   ]
  },
  {
   "cell_type": "markdown",
   "metadata": {},
   "source": [
    "### Analyze angle of incidence"
   ]
  },
  {
   "cell_type": "code",
   "execution_count": 18,
   "metadata": {},
   "outputs": [
    {
     "data": {
      "text/plain": [
       "Index(['GHI', 'DHI', 'dHI', 'sun_time', 'temperature', 'wind_dir',\n",
       "       'wind_speed', 'rain', 'snow', 'avg_time', 'poa_global', 'poa_direct',\n",
       "       'poa_diffuse', 'poa_sky_diffuse', 'poa_ground_diffuse', 'aoi', 'DNI',\n",
       "       'apparent_elevation', 'apparent_zenith', 'azimuth', 'elevation',\n",
       "       'equation_of_time', 'zenith'],\n",
       "      dtype='object')"
      ]
     },
     "execution_count": 18,
     "metadata": {},
     "output_type": "execute_result"
    }
   ],
   "source": [
    "ngo_tilt_irr.columns"
   ]
  },
  {
   "cell_type": "code",
   "execution_count": 19,
   "metadata": {},
   "outputs": [
    {
     "data": {
      "image/png": "[encoded data removed]",
      "text/plain": [
       "<matplotlib.figure.Figure at 0x11a3e56d8>"
      ]
     },
     "metadata": {},
     "output_type": "display_data"
    }
   ],
   "source": [
    "plt.hist(ngo_tilt_irr['aoi'],weights=ngo_tilt_irr['poa_direct'],bins=100)\n",
    "plt.show()"
   ]
  },
  {
   "cell_type": "code",
   "execution_count": null,
   "metadata": {
    "collapsed": true
   },
   "outputs": [],
   "source": []
  }
 ],
 "metadata": {
  "kernelspec": {
   "display_name": "Python 3",
   "language": "python",
   "name": "python3"
  },
  "language_info": {
   "codemirror_mode": {
    "name": "ipython",
    "version": 3
   },
   "file_extension": ".py",
   "mimetype": "text/x-python",
   "name": "python",
   "nbconvert_exporter": "python",
   "pygments_lexer": "ipython3",
   "version": "3.6.0"
  }
 },
 "nbformat": 4,
 "nbformat_minor": 2
}

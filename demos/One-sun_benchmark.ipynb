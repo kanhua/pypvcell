{
 "cells": [
  {
   "cell_type": "code",
   "execution_count": 1,
   "metadata": {},
   "outputs": [],
   "source": [
    "%matplotlib inline\n",
    "%load_ext autoreload\n",
    "%autoreload 2\n",
    "import numpy as np\n",
    "import matplotlib.pyplot as plt\n",
    "\n",
    "from pypvcell.solarcell import SQCell,MJCell,DBCell\n",
    "from pypvcell.illumination import Illumination,load_blackbody\n",
    "from pypvcell.photocurrent import gen_step_qe"
   ]
  },
  {
   "cell_type": "markdown",
   "metadata": {},
   "source": [
    "Reference spectrum: Blackbody at 6000K"
   ]
  },
  {
   "cell_type": "code",
   "execution_count": 2,
   "metadata": {},
   "outputs": [
    {
     "data": {
      "text/plain": [
       "999.9999999999999"
      ]
     },
     "execution_count": 2,
     "metadata": {},
     "output_type": "execute_result"
    }
   ],
   "source": [
    "one_sun_ill=load_blackbody(T=6000,normalize_to=1000)\n",
    "one_sun_ill.rsum()"
   ]
  },
  {
   "cell_type": "markdown",
   "metadata": {},
   "source": [
    "### 1J 1.13 eV"
   ]
  },
  {
   "cell_type": "code",
   "execution_count": 3,
   "metadata": {},
   "outputs": [
    {
     "name": "stdout",
     "output_type": "stream",
     "text": [
      "0.31561963736038107\n"
     ]
    }
   ],
   "source": [
    "sq_cell = SQCell(eg=1.31, cell_T=300, n_c=1, n_s=1)\n",
    "sq_cell.set_input_spectrum(input_spectrum=one_sun_ill)\n",
    "print(sq_cell.get_eta())"
   ]
  },
  {
   "cell_type": "markdown",
   "metadata": {},
   "source": [
    "### 2J 1.87/0.98 eV"
   ]
  },
  {
   "cell_type": "code",
   "execution_count": 4,
   "metadata": {},
   "outputs": [
    {
     "name": "stdout",
     "output_type": "stream",
     "text": [
      "0.3745866244174781\n",
      "[-176.85004312 -283.66597477]\n"
     ]
    }
   ],
   "source": [
    "s1 = SQCell(eg=1.88, cell_T=300, n_c=1, n_s=1)\n",
    "s2 = SQCell(eg=0.98, cell_T=300, n_c=1, n_s=1)\n",
    "mj=MJCell([s1,s2])\n",
    "mj.set_input_spectrum(input_spectrum=one_sun_ill)\n",
    "print(mj.get_eta())\n",
    "print(mj.get_subcell_jsc())"
   ]
  },
  {
   "cell_type": "code",
   "execution_count": 5,
   "metadata": {},
   "outputs": [
    {
     "name": "stdout",
     "output_type": "stream",
     "text": [
      "0.426251879430031\n",
      "[-176.85004312 -283.66597477]\n"
     ]
    }
   ],
   "source": [
    "#mechanical stack\n",
    "mj=MJCell([s1,s2],connect='MS')\n",
    "mj.set_input_spectrum(input_spectrum=one_sun_ill)\n",
    "print(mj.get_eta())\n",
    "print(mj.get_subcell_jsc())"
   ]
  },
  {
   "cell_type": "markdown",
   "metadata": {},
   "source": [
    "### 3J  2.26/1.45/0.83 eV "
   ]
  },
  {
   "cell_type": "code",
   "execution_count": 6,
   "metadata": {},
   "outputs": [
    {
     "name": "stdout",
     "output_type": "stream",
     "text": [
      "0.39254929761137003\n",
      "[-114.41276722 -184.41305052 -218.4462367 ]\n"
     ]
    }
   ],
   "source": [
    "s1 = SQCell(eg=2.26, cell_T=300, n_c=1, n_s=1)\n",
    "s2 = SQCell(eg=1.44, cell_T=300, n_c=1, n_s=1)\n",
    "s3 = SQCell(eg=0.82, cell_T=300, n_c=1, n_s=1)\n",
    "mj=MJCell([s1,s2,s3],connect='2T')\n",
    "mj.set_input_spectrum(input_spectrum=one_sun_ill)\n",
    "print(mj.get_eta())\n",
    "print(mj.get_subcell_jsc())"
   ]
  },
  {
   "cell_type": "code",
   "execution_count": 7,
   "metadata": {},
   "outputs": [
    {
     "name": "stdout",
     "output_type": "stream",
     "text": [
      "0.4928411088547912\n",
      "[-114.41276722 -184.41305052 -218.4462367 ]\n"
     ]
    }
   ],
   "source": [
    "mj=MJCell([s1,s2,s3],connect='MS')\n",
    "mj.set_input_spectrum(input_spectrum=one_sun_ill)\n",
    "print(mj.get_eta())\n",
    "print(mj.get_subcell_jsc())"
   ]
  },
  {
   "cell_type": "markdown",
   "metadata": {},
   "source": [
    "### Optimal band gap on silicon"
   ]
  },
  {
   "cell_type": "code",
   "execution_count": 8,
   "metadata": {},
   "outputs": [],
   "source": [
    "input_ill=Illumination(\"AM1.5g\",concentration=1)\n",
    "top_eg=np.linspace(1.6,2,num=100) # Set up range of top cell band gaps\n",
    "\n",
    "eta=np.zeros(100) # Initialize an array for storing efficiencies\n",
    "jsc_ratio=np.zeros_like(eta)\n",
    "si_cell=SQCell(eg=1.12,cell_T=293,n_c=3.5,n_s=3.5)\n",
    "for i,teg in enumerate(top_eg):\n",
    "    #qe=gen_step_qe(teg,1)\n",
    "    #tc=DBCell(qe,rad_eta=1,T=293,n_c=3.5,n_s=1) # Set up top cell\n",
    "    tc=SQCell(eg=teg,cell_T=293,n_c=3.5,n_s=1)\n",
    "    mj=MJCell([tc, si_cell]) # Make multijunction cell by \"streaming\" the 1J cells\n",
    "    mj.set_input_spectrum(input_ill) # Set up the illumination\n",
    "    eta[i]=mj.get_eta() # Store the calculated efficiency in an array\n",
    "    jsc_a=mj.get_subcell_jsc()\n",
    "    jsc_ratio[i]=jsc_a[0]/jsc_a[1]"
   ]
  },
  {
   "cell_type": "code",
   "execution_count": 9,
   "metadata": {},
   "outputs": [
    {
     "data": {
      "image/png": "[encoded data removed]",
      "text/plain": [
       "<Figure size 432x288 with 1 Axes>"
      ]
     },
     "metadata": {
      "needs_background": "light"
     },
     "output_type": "display_data"
    }
   ],
   "source": [
    "plt.plot(top_eg,eta)\n",
    "plt.xlabel(\"band gap of top cell (eV)\")\n",
    "plt.ylabel(\"efficiency\")\n",
    "plt.savefig(\"sj_on_si.pdf\")"
   ]
  },
  {
   "cell_type": "code",
   "execution_count": 10,
   "metadata": {},
   "outputs": [
    {
     "data": {
      "text/plain": [
       "1.7333333333333334"
      ]
     },
     "execution_count": 10,
     "metadata": {},
     "output_type": "execute_result"
    }
   ],
   "source": [
    "top_eg[np.argmax(eta)]"
   ]
  },
  {
   "cell_type": "code",
   "execution_count": 11,
   "metadata": {},
   "outputs": [
    {
     "data": {
      "text/plain": [
       "0.42257021375989967"
      ]
     },
     "execution_count": 11,
     "metadata": {},
     "output_type": "execute_result"
    }
   ],
   "source": [
    "np.max(eta)"
   ]
  },
  {
   "cell_type": "code",
   "execution_count": null,
   "metadata": {},
   "outputs": [],
   "source": []
  }
 ],
 "metadata": {
  "kernelspec": {
   "display_name": "Python 3",
   "language": "python",
   "name": "python3"
  },
  "language_info": {
   "codemirror_mode": {
    "name": "ipython",
    "version": 3
   },
   "file_extension": ".py",
   "mimetype": "text/x-python",
   "name": "python",
   "nbconvert_exporter": "python",
   "pygments_lexer": "ipython3",
   "version": "3.6.8"
  }
 },
 "nbformat": 4,
 "nbformat_minor": 1
}

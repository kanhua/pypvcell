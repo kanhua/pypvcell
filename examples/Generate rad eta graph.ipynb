{
 "cells": [
  {
   "cell_type": "code",
   "execution_count": 9,
   "metadata": {
    "collapsed": false
   },
   "outputs": [],
   "source": [
    "%matplotlib inline\n",
    "import numpy as np\n",
    "from scipy.interpolate import interp2d\n",
    "import matplotlib.pyplot as plt\n",
    "from scipy.io import savemat\n",
    "from pypvcell.iii_v_si import *"
   ]
  },
  {
   "cell_type": "code",
   "execution_count": 10,
   "metadata": {
    "collapsed": false
   },
   "outputs": [
    {
     "data": {
      "text/plain": [
       "<numpy.lib.npyio.NpzFile at 0x105947e10>"
      ]
     },
     "execution_count": 10,
     "metadata": {},
     "output_type": "execute_result"
    }
   ],
   "source": [
    "eta=np.load('radeta_1.7_radeta.npz')\n",
    "eta"
   ]
  },
  {
   "cell_type": "code",
   "execution_count": 11,
   "metadata": {
    "collapsed": false
   },
   "outputs": [
    {
     "data": {
      "image/png": "[encoded data removed]",
      "text/plain": [
       "<matplotlib.figure.Figure at 0x105a89ef0>"
      ]
     },
     "metadata": {},
     "output_type": "display_data"
    }
   ],
   "source": [
    "plt.pcolormesh(eta['ere_x'], eta['ere_y'], eta['eta'])\n",
    "plt.colorbar()\n",
    "plt.xscale(\"log\")\n",
    "plt.yscale(\"log\")"
   ]
  },
  {
   "cell_type": "code",
   "execution_count": 12,
   "metadata": {
    "collapsed": false
   },
   "outputs": [
    {
     "data": {
      "text/plain": [
       "(0.36505379472717325, array(0.6656229413419698), array(1.3317159146633026))"
      ]
     },
     "execution_count": 12,
     "metadata": {},
     "output_type": "execute_result"
    }
   ],
   "source": [
    "calc_2j_si_iv(si_layer_t=1000e-6, si_rad_eta=0.01, top_cell_bg=1.7, top_cell_qe=1, top_cell_rad_eta=1)"
   ]
  },
  {
   "cell_type": "code",
   "execution_count": 13,
   "metadata": {
    "collapsed": false
   },
   "outputs": [],
   "source": [
    "si_rad_eta_ar_num=100\n",
    "iii_v_rad_eta_ar = np.logspace(-7, 0, num=si_rad_eta_ar_num)"
   ]
  },
  {
   "cell_type": "code",
   "execution_count": 23,
   "metadata": {
    "collapsed": false
   },
   "outputs": [
    {
     "name": "stderr",
     "output_type": "stream",
     "text": [
      "/usr/local/lib/python3.4/site-packages/scipy/interpolate/interpolate.py:466: RuntimeWarning: divide by zero encountered in true_divide\n",
      "  slope = (y_hi - y_lo) / (x_hi - x_lo)[:, None]\n",
      "/usr/local/lib/python3.4/site-packages/scipy/interpolate/interpolate.py:469: RuntimeWarning: invalid value encountered in multiply\n",
      "  y_new = slope*(x_new - x_lo)[:, None] + y_lo\n"
     ]
    }
   ],
   "source": [
    "eta_arr=list()\n",
    "eta2_arr=list()\n",
    "for r in iii_v_rad_eta_ar:\n",
    "    eta,_,_=calc_2j_si_iv(si_layer_t=1000e-6, si_rad_eta=0.01, top_cell_bg=1.7, top_cell_qe=1, top_cell_rad_eta=r)\n",
    "    eta2,_,_=calc_2j_si_iv(si_layer_t=1000e-6, si_rad_eta=0.01, top_cell_bg=1.87, top_cell_qe=1, top_cell_rad_eta=r)\n",
    "    eta_arr.append(eta)\n",
    "    eta2_arr.append(eta2)\n",
    "eta_arr=np.array(eta_arr)\n",
    "eta2_arr=np.array(eta2_arr)"
   ]
  },
  {
   "cell_type": "code",
   "execution_count": 24,
   "metadata": {
    "collapsed": false
   },
   "outputs": [
    {
     "data": {
      "text/plain": [
       "array([ 0.28100506,  0.28180858,  0.2827041 ,  0.28349768,  0.28440052,\n",
       "        0.28518879,  0.2860923 ,  0.28688186,  0.28778671,  0.28857676,\n",
       "        0.28948265,  0.29027289,  0.29118051,  0.29197017,  0.29288046,\n",
       "        0.29366861,  0.29457663,  0.29536825,  0.29626542,  0.29706909,\n",
       "        0.29795532,  0.29877116,  0.29964627,  0.30047447,  0.30133829,\n",
       "        0.30217904,  0.3030314 ,  0.30388489,  0.30472562,  0.30559204,\n",
       "        0.30642095,  0.30730051,  0.30811742,  0.30901033,  0.30981505,\n",
       "        0.3107215 ,  0.31151385,  0.3124205 ,  0.31321384,  0.3141096 ,\n",
       "        0.31491504,  0.31579975,  0.31661747,  0.31749096,  0.31832114,\n",
       "        0.31918324,  0.32002607,  0.32087661,  0.32173229,  0.32257109,\n",
       "        0.32343982,  0.3242667 ,  0.32514867,  0.32596344,  0.32685886,\n",
       "        0.32766135,  0.32857041,  0.32936043,  0.33026449,  0.33106071,\n",
       "        0.33195385,  0.3327622 ,  0.33364425,  0.33446492,  0.33533571,\n",
       "        0.33616889,  0.33702825,  0.33787413,  0.33872188,  0.33958066,\n",
       "        0.34041663,  0.3412885 ,  0.34211251,  0.34299767,  0.34380953,\n",
       "        0.34470818,  0.34550771,  0.34641998,  0.34720708,  0.34810855,\n",
       "        0.34890764,  0.34979815,  0.35060943,  0.3514888 ,  0.35231244,\n",
       "        0.35318052,  0.35401672,  0.35487332,  0.35572227,  0.35656722,\n",
       "        0.35742911,  0.35826223,  0.35913726,  0.35995838,  0.36084675,\n",
       "        0.36165568,  0.36255759,  0.36335414,  0.36426528,  0.36505379])"
      ]
     },
     "execution_count": 24,
     "metadata": {},
     "output_type": "execute_result"
    }
   ],
   "source": [
    "eta_arr"
   ]
  },
  {
   "cell_type": "code",
   "execution_count": 25,
   "metadata": {
    "collapsed": false
   },
   "outputs": [
    {
     "data": {
      "text/plain": [
       "[<matplotlib.lines.Line2D at 0x107f5e5f8>]"
      ]
     },
     "execution_count": 25,
     "metadata": {},
     "output_type": "execute_result"
    },
    {
     "data": {
      "image/png": "[encoded data removed]",
      "text/plain": [
       "<matplotlib.figure.Figure at 0x1059f3400>"
      ]
     },
     "metadata": {},
     "output_type": "display_data"
    }
   ],
   "source": [
    "plt.semilogx(iii_v_rad_eta_ar,eta_arr,hold=True)\n",
    "plt.semilogx(iii_v_rad_eta_ar,eta2_arr,hold=True)"
   ]
  },
  {
   "cell_type": "code",
   "execution_count": null,
   "metadata": {
    "collapsed": true
   },
   "outputs": [],
   "source": []
  }
 ],
 "metadata": {
  "kernelspec": {
   "display_name": "Python 3",
   "language": "python",
   "name": "python3"
  },
  "language_info": {
   "codemirror_mode": {
    "name": "ipython",
    "version": 3
   },
   "file_extension": ".py",
   "mimetype": "text/x-python",
   "name": "python",
   "nbconvert_exporter": "python",
   "pygments_lexer": "ipython3",
   "version": "3.4.2"
  }
 },
 "nbformat": 4,
 "nbformat_minor": 0
}

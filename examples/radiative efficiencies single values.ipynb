{
 "cells": [
  {
   "cell_type": "code",
   "execution_count": 2,
   "metadata": {},
   "outputs": [],
   "source": [
    "%matplotlib inline\n",
    "import numpy as np\n",
    "from scipy.interpolate import interp2d\n",
    "import matplotlib.pyplot as plt\n",
    "from scipy.io import savemat\n",
    "from iii_v_si import calc_2j_si_eta, calc_3j_si_eta"
   ]
  },
  {
   "cell_type": "markdown",
   "metadata": {},
   "source": [
    "#### 1000-um bottom cell with 1.87eV top cell"
   ]
  },
  {
   "cell_type": "code",
   "execution_count": 3,
   "metadata": {},
   "outputs": [
    {
     "name": "stderr",
     "output_type": "stream",
     "text": [
      "/usr/local/lib/python3.4/site-packages/scipy/interpolate/interpolate.py:466: RuntimeWarning: divide by zero encountered in true_divide\n  slope = (y_hi - y_lo) / (x_hi - x_lo)[:, None]\n/usr/local/lib/python3.4/site-packages/scipy/interpolate/interpolate.py:469: RuntimeWarning: invalid value encountered in multiply\n  y_new = slope*(x_new - x_lo)[:, None] + y_lo\n"
     ]
    },
    {
     "data": {
      "text/plain": [
       "(0.35340118533740239, array(0.7849114761271722), array(1.4903275945654881))"
      ]
     },
     "execution_count": 3,
     "output_type": "execute_result",
     "metadata": {}
    }
   ],
   "source": [
    "calc_2j_si_eta(1000e-6,1,1.87,top_cell_qe=1,top_cell_rad_eta=1)"
   ]
  },
  {
   "cell_type": "code",
   "execution_count": 4,
   "metadata": {},
   "outputs": [
    {
     "data": {
      "text/plain": [
       "(0.3356048644027097, array(0.7849114761271722), array(1.0705132691464085))"
      ]
     },
     "execution_count": 4,
     "output_type": "execute_result",
     "metadata": {}
    }
   ],
   "source": [
    "calc_2j_si_eta(1000e-6,1,1.42,top_cell_qe=0.69,top_cell_rad_eta=1)"
   ]
  },
  {
   "cell_type": "markdown",
   "metadata": {},
   "source": [
    "### GaAs as top cell"
   ]
  },
  {
   "cell_type": "code",
   "execution_count": 7,
   "metadata": {},
   "outputs": [],
   "source": [
    "test_qe=np.linspace(0.6,1,num=100)\n",
    "eta=[calc_2j_si_eta(1000e-6,1,1.42,top_cell_qe=qe,top_cell_rad_eta=1)[0] for qe in test_qe]"
   ]
  },
  {
   "cell_type": "code",
   "execution_count": 9,
   "metadata": {},
   "outputs": [],
   "source": [
    "plt.plot(test_qe,eta)"
   ]
  },
  {
   "cell_type": "code",
   "execution_count": 10,
   "metadata": {},
   "outputs": [],
   "source": [
    "test_qe[np.argmax(eta)]"
   ]
  },
  {
   "cell_type": "code",
   "execution_count": 11,
   "metadata": {},
   "outputs": [],
   "source": [
    "np.max(eta)"
   ]
  },
  {
   "cell_type": "code",
   "execution_count": 12,
   "metadata": {},
   "outputs": [],
   "source": [
    "calc_2j_si_eta(1000e-6,0.005,1.7,top_cell_qe=1,top_cell_rad_eta=1e-4)"
   ]
  },
  {
   "cell_type": "code",
   "execution_count": 14,
   "metadata": {},
   "outputs": [],
   "source": [
    "calc_3j_si_eta(0.01, 0.01, 1, top_band_gap=1.97, top_cell_qe=1, mid_band_gap=1.49,\n",
    "               mid_cell_qe=1, bot_cell_eta=0.005, bot_cell_qe=1,bot_band_gap=1.12)"
   ]
  },
  {
   "cell_type": "code",
   "execution_count": 16,
   "metadata": {},
   "outputs": [],
   "source": [
    "calc_3j_si_eta(0.0001, 0.0001, 1, top_band_gap=1.97, top_cell_qe=1, mid_band_gap=1.49,\n",
    "               mid_cell_qe=1, bot_cell_eta=0.005, bot_cell_qe=1,bot_band_gap=1.12)"
   ]
  },
  {
   "cell_type": "code",
   "execution_count": 18,
   "metadata": {},
   "outputs": [],
   "source": [
    "calc_3j_si_eta(0.01, 0.01, 1, top_band_gap=1.87, top_cell_qe=1, mid_band_gap=1.42,\n",
    "               mid_cell_qe=1, bot_cell_eta=0.005, bot_cell_qe=1,bot_band_gap=1.12)"
   ]
  },
  {
   "cell_type": "code",
   "execution_count": 6,
   "metadata": {},
   "outputs": [
    {
     "name": "stderr",
     "output_type": "stream",
     "text": [
      "/usr/local/lib/python3.4/site-packages/scipy/interpolate/interpolate.py:466: RuntimeWarning: divide by zero encountered in true_divide\n  slope = (y_hi - y_lo) / (x_hi - x_lo)[:, None]\n/usr/local/lib/python3.4/site-packages/scipy/interpolate/interpolate.py:469: RuntimeWarning: invalid value encountered in multiply\n  y_new = slope*(x_new - x_lo)[:, None] + y_lo\n"
     ]
    },
    {
     "data": {
      "text/plain": [
       "(0.37598784880153963,\n array(1.4903275945654881),\n array(1.070511948218532),\n array(0.7910412844135905))"
      ]
     },
     "execution_count": 6,
     "output_type": "execute_result",
     "metadata": {}
    }
   ],
   "source": [
    "calc_3j_si_eta(1, 1, 1, top_band_gap=1.87, top_cell_qe=1, mid_band_gap=1.42,\n",
    "               mid_cell_qe=1, bot_cell_eta=1, bot_cell_qe=1,bot_band_gap=1.12)"
   ]
  },
  {
   "cell_type": "code",
   "execution_count": 22,
   "metadata": {},
   "outputs": [],
   "source": [
    "calc_3j_si_eta(1, 1, 1, top_band_gap=1.97, top_cell_qe=1, mid_band_gap=1.49,\n",
    "               mid_cell_qe=1, bot_cell_eta=1, bot_cell_qe=1,bot_band_gap=1.12)"
   ]
  },
  {
   "cell_type": "code",
   "execution_count": 24,
   "metadata": {},
   "outputs": [],
   "source": [
    "calc_2j_si_eta(1000e-6,1,1.87,top_cell_qe=1,top_cell_rad_eta=1)"
   ]
  },
  {
   "cell_type": "code",
   "execution_count": 8,
   "metadata": {},
   "outputs": [
    {
     "name": "stderr",
     "output_type": "stream",
     "text": [
      "/usr/local/lib/python3.4/site-packages/scipy/interpolate/interpolate.py:466: RuntimeWarning: divide by zero encountered in true_divide\n  slope = (y_hi - y_lo) / (x_hi - x_lo)[:, None]\n/usr/local/lib/python3.4/site-packages/scipy/interpolate/interpolate.py:469: RuntimeWarning: invalid value encountered in multiply\n  y_new = slope*(x_new - x_lo)[:, None] + y_lo\n"
     ]
    },
    {
     "data": {
      "text/plain": [
       "(0.37627905394509531,\n array(1.371252327795935),\n array(0.9513898219173657),\n array(0.6718703976397261))"
      ]
     },
     "execution_count": 8,
     "output_type": "execute_result",
     "metadata": {}
    }
   ],
   "source": [
    "calc_3j_si_eta(0.01, 0.01, 1, top_band_gap=1.87, top_cell_qe=0.86, mid_band_gap=1.42,\n",
    "               mid_cell_qe=0.86, bot_cell_eta=0.005, bot_cell_qe=1,bot_band_gap=1.12)"
   ]
  },
  {
   "cell_type": "code",
   "execution_count": null,
   "metadata": {},
   "outputs": [],
   "source": [
    ""
   ]
  }
 ],
 "metadata": {
  "kernelspec": {
   "display_name": "Python 3",
   "language": "python",
   "name": "python3"
  },
  "language_info": {
   "codemirror_mode": {
    "name": "ipython",
    "version": 3.0
   },
   "file_extension": ".py",
   "mimetype": "text/x-python",
   "name": "python",
   "nbconvert_exporter": "python",
   "pygments_lexer": "ipython3",
   "version": "3.4.2"
  }
 },
 "nbformat": 4,
 "nbformat_minor": 0
}
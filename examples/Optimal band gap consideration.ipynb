{
 "cells": [
  {
   "cell_type": "code",
   "execution_count": 1,
   "metadata": {
    "collapsed": false
   },
   "outputs": [
    {
     "ename": "ImportError",
     "evalue": "No module named 'spectrum_base'",
     "output_type": "error",
     "traceback": [
      "\u001b[0;31m---------------------------------------------------------------------------\u001b[0m",
      "\u001b[0;31mImportError\u001b[0m                               Traceback (most recent call last)",
      "\u001b[0;32m<ipython-input-1-ae551a6e2168>\u001b[0m in \u001b[0;36m<module>\u001b[0;34m()\u001b[0m\n\u001b[0;32m----> 1\u001b[0;31m \u001b[0;32mfrom\u001b[0m \u001b[0mpypvcell\u001b[0m\u001b[0;34m.\u001b[0m\u001b[0miii_v_si\u001b[0m \u001b[0;32mimport\u001b[0m \u001b[0mcalc_2j_si_iv\u001b[0m\u001b[0;34m\u001b[0m\u001b[0m\n\u001b[0m",
      "\u001b[0;32m/Users/kanhua/Dropbox/Documents in Dropbox/Programming projects/Python/pypvcell/iii_v_si.py\u001b[0m in \u001b[0;36m<module>\u001b[0;34m()\u001b[0m\n\u001b[1;32m      2\u001b[0m \u001b[0;34m\u001b[0m\u001b[0m\n\u001b[1;32m      3\u001b[0m \u001b[0;32mimport\u001b[0m \u001b[0mnumpy\u001b[0m \u001b[0;32mas\u001b[0m \u001b[0mnp\u001b[0m\u001b[0;34m\u001b[0m\u001b[0m\n\u001b[0;32m----> 4\u001b[0;31m \u001b[0;32mfrom\u001b[0m \u001b[0mpypvcell\u001b[0m\u001b[0;34m.\u001b[0m\u001b[0mivsolver\u001b[0m \u001b[0;32mimport\u001b[0m \u001b[0mcalculate_j01_from_qe\u001b[0m\u001b[0;34m,\u001b[0m \u001b[0mgen_rec_iv\u001b[0m\u001b[0;34m,\u001b[0m \u001b[0mcalculate_j01\u001b[0m\u001b[0;34m,\u001b[0m \u001b[0mcalculate_j02_from_rad_eff\u001b[0m\u001b[0;34m\u001b[0m\u001b[0m\n\u001b[0m\u001b[1;32m      5\u001b[0m \u001b[0;32mfrom\u001b[0m \u001b[0mpypvcell\u001b[0m\u001b[0;34m.\u001b[0m\u001b[0mdetail_balanced_MJ\u001b[0m \u001b[0;32mimport\u001b[0m \u001b[0mcalc_mj_eta\u001b[0m\u001b[0;34m,\u001b[0m\u001b[0mrad_to_voc\u001b[0m\u001b[0;34m,\u001b[0m\u001b[0mextract_voc\u001b[0m\u001b[0;34m\u001b[0m\u001b[0m\n\u001b[1;32m      6\u001b[0m \u001b[0;32mfrom\u001b[0m \u001b[0mpypvcell\u001b[0m\u001b[0;34m.\u001b[0m\u001b[0mphotocurrent\u001b[0m \u001b[0;32mimport\u001b[0m \u001b[0mgen_qe_from_abs\u001b[0m\u001b[0;34m,\u001b[0m \u001b[0mgen_square_qe\u001b[0m\u001b[0;34m,\u001b[0m \u001b[0mcalc_jsc\u001b[0m\u001b[0;34m\u001b[0m\u001b[0m\n",
      "\u001b[0;32m/Users/kanhua/Dropbox/Documents in Dropbox/Programming projects/Python/pypvcell/ivsolver.py\u001b[0m in \u001b[0;36m<module>\u001b[0;34m()\u001b[0m\n\u001b[1;32m      3\u001b[0m \u001b[0;32mfrom\u001b[0m \u001b[0mscipy\u001b[0m\u001b[0;34m.\u001b[0m\u001b[0moptimize\u001b[0m \u001b[0;32mimport\u001b[0m \u001b[0mnewton_krylov\u001b[0m\u001b[0;34m\u001b[0m\u001b[0m\n\u001b[1;32m      4\u001b[0m \u001b[0;32mimport\u001b[0m \u001b[0mscipy\u001b[0m\u001b[0;34m.\u001b[0m\u001b[0mconstants\u001b[0m \u001b[0;32mas\u001b[0m \u001b[0msc\u001b[0m\u001b[0;34m\u001b[0m\u001b[0m\n\u001b[0;32m----> 5\u001b[0;31m \u001b[0;32mfrom\u001b[0m \u001b[0mspectrum_base\u001b[0m \u001b[0;32mimport\u001b[0m \u001b[0mspectrum_base\u001b[0m\u001b[0;34m\u001b[0m\u001b[0m\n\u001b[0m\u001b[1;32m      6\u001b[0m \u001b[0;32mfrom\u001b[0m \u001b[0msolcore3\u001b[0m \u001b[0;32mimport\u001b[0m \u001b[0meVnm\u001b[0m\u001b[0;34m\u001b[0m\u001b[0m\n\u001b[1;32m      7\u001b[0m \u001b[0;32mimport\u001b[0m \u001b[0mcopy\u001b[0m\u001b[0;34m\u001b[0m\u001b[0m\n",
      "\u001b[0;31mImportError\u001b[0m: No module named 'spectrum_base'"
     ]
    }
   ],
   "source": [
    "from pypvcell.iii_v_si import calc_2j_si_iv"
   ]
  },
  {
   "cell_type": "code",
   "execution_count": null,
   "metadata": {
    "collapsed": true
   },
   "outputs": [],
   "source": []
  }
 ],
 "metadata": {
  "kernelspec": {
   "display_name": "Python 3",
   "language": "python",
   "name": "python3"
  },
  "language_info": {
   "codemirror_mode": {
    "name": "ipython",
    "version": 3
   },
   "file_extension": ".py",
   "mimetype": "text/x-python",
   "name": "python",
   "nbconvert_exporter": "python",
   "pygments_lexer": "ipython3",
   "version": "3.4.2"
  }
 },
 "nbformat": 4,
 "nbformat_minor": 0
}

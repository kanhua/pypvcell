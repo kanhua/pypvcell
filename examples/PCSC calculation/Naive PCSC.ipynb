{
 "cells": [
  {
   "cell_type": "code",
   "execution_count": 12,
   "metadata": {
    "collapsed": false
   },
   "outputs": [],
   "source": [
    "%matplotlib inline\n",
    "import numpy as np\n",
    "import matplotlib.pyplot as plt"
   ]
  },
  {
   "cell_type": "code",
   "execution_count": 13,
   "metadata": {
    "collapsed": true
   },
   "outputs": [],
   "source": [
    "def d_per_watt(asp_ratio,int_ratio,iii_v_c, si_c,iii_v_eta,si_eta,si_bot_eta,input_intensity):\n",
    "    \n",
    "    p_out=input_intensity*(iii_v_eta*int_ratio+si_eta*(1-int_ratio)+si_bot_eta*int_ratio)\n",
    "    cost=iii_v_c*asp_ratio+si_c\n",
    "    \n",
    "    return cost/p_out"
   ]
  },
  {
   "cell_type": "code",
   "execution_count": 20,
   "metadata": {
    "collapsed": false
   },
   "outputs": [
    {
     "data": {
      "text/plain": [
       "19.878594249201274"
      ]
     },
     "execution_count": 20,
     "metadata": {},
     "output_type": "execute_result"
    }
   ],
   "source": [
    "d_per_watt(asp_ratio=0.1,int_ratio=0.9,\n",
    "           iii_v_c=60000,si_c=222,iii_v_eta=0.28,\n",
    "           si_eta=0.25,si_bot_eta=0.04,input_intensity=1000)"
   ]
  },
  {
   "cell_type": "code",
   "execution_count": 22,
   "metadata": {
    "collapsed": false
   },
   "outputs": [
    {
     "name": "stdout",
     "output_type": "stream",
     "text": [
      "0.709265175719\n",
      "22.0085197018\n",
      "43.3077742279\n",
      "64.607028754\n",
      "85.9062832801\n",
      "107.205537806\n",
      "128.504792332\n",
      "149.804046858\n",
      "171.103301384\n",
      "192.402555911\n"
     ]
    },
    {
     "data": {
      "text/plain": [
       "[<matplotlib.lines.Line2D at 0x10f4c9630>]"
      ]
     },
     "execution_count": 22,
     "metadata": {},
     "output_type": "execute_result"
    },
    {
     "data": {
      "image/png": "[encoded data removed]",
      "text/plain": [
       "<matplotlib.figure.Figure at 0x10f3b9780>"
      ]
     },
     "metadata": {},
     "output_type": "display_data"
    }
   ],
   "source": [
    "dw=[]\n",
    "a_arr=np.linspace(0,1,num=10)\n",
    "for a in a_arr:\n",
    "    each_dw=d_per_watt(asp_ratio=a,int_ratio=0.9,\n",
    "           iii_v_c=60000,si_c=222,iii_v_eta=0.28,\n",
    "           si_eta=0.25,si_bot_eta=0.04,input_intensity=1000)\n",
    "    \n",
    "    dw.append(each_dw)\n",
    "    print(each_dw)\n",
    "    \n",
    "dw=np.array(dw)\n",
    "plt.plot(a_arr,dw)"
   ]
  },
  {
   "cell_type": "code",
   "execution_count": 23,
   "metadata": {
    "collapsed": false
   },
   "outputs": [
    {
     "data": {
      "text/plain": [
       "[<matplotlib.lines.Line2D at 0x10f4fae80>]"
      ]
     },
     "execution_count": 23,
     "metadata": {},
     "output_type": "execute_result"
    },
    {
     "data": {
      "image/png": "[encoded data removed]",
      "text/plain": [
       "<matplotlib.figure.Figure at 0x10f458080>"
      ]
     },
     "metadata": {},
     "output_type": "display_data"
    }
   ],
   "source": [
    "dw=[]\n",
    "a_arr=np.linspace(0,1,num=100)\n",
    "for a in a_arr:\n",
    "    each_dw=d_per_watt(asp_ratio=0.1,int_ratio=a,\n",
    "           iii_v_c=60000,si_c=222,iii_v_eta=0.28,\n",
    "           si_eta=0.25,si_bot_eta=0.04,input_intensity=1000)\n",
    "    \n",
    "    dw.append(each_dw)\n",
    "    \n",
    "dw=np.array(dw)\n",
    "plt.plot(a_arr,dw)"
   ]
  },
  {
   "cell_type": "code",
   "execution_count": 18,
   "metadata": {
    "collapsed": false
   },
   "outputs": [
    {
     "data": {
      "text/plain": [
       "61674.482731426069"
      ]
     },
     "execution_count": 18,
     "metadata": {},
     "output_type": "execute_result"
    }
   ],
   "source": [
    "four_in_wafer_cost=500\n",
    "area=np.power(2*2.54,2)*3.1415/10000\n",
    "d_per_m_sq=four_in_wafer_cost/area\n",
    "d_per_m_sq"
   ]
  },
  {
   "cell_type": "code",
   "execution_count": 19,
   "metadata": {
    "collapsed": false
   },
   "outputs": [
    {
     "data": {
      "text/plain": [
       "222.22222222222223"
      ]
     },
     "execution_count": 19,
     "metadata": {},
     "output_type": "execute_result"
    }
   ],
   "source": [
    "four_in_wafer_cost=5\n",
    "area=15*15/10000\n",
    "d_per_m_sq=four_in_wafer_cost/area\n",
    "d_per_m_sq"
   ]
  },
  {
   "cell_type": "code",
   "execution_count": null,
   "metadata": {
    "collapsed": true
   },
   "outputs": [],
   "source": []
  }
 ],
 "metadata": {
  "kernelspec": {
   "display_name": "Python 3",
   "language": "python",
   "name": "python3"
  },
  "language_info": {
   "codemirror_mode": {
    "name": "ipython",
    "version": 3
   },
   "file_extension": ".py",
   "mimetype": "text/x-python",
   "name": "python",
   "nbconvert_exporter": "python",
   "pygments_lexer": "ipython3",
   "version": "3.5.1"
  }
 },
 "nbformat": 4,
 "nbformat_minor": 0
}
